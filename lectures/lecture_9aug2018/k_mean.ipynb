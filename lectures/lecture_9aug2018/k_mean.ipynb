{
 "cells": [
  {
   "cell_type": "markdown",
   "metadata": {
    "slideshow": {
     "slide_type": "slide"
    }
   },
   "source": [
    "# What is K-mean clustering algorithms(unsupervised)\n",
    "\n",
    "k-mean alogorithm  find pre-defined number of clusters $c$ from multi-dimesional data."
   ]
  },
  {
   "cell_type": "markdown",
   "metadata": {
    "slideshow": {
     "slide_type": "slide"
    }
   },
   "source": [
    "# Why we care?\n",
    "There is much more unlabelled data then labelled data. We can still learn useful information or underlying pattern\n",
    "in unlabelled data\n",
    "- clustering of news article.\n",
    "- clustering of people in facebook social graph\n",
    "- image segmentation\n",
    "- Anamoly detection\n",
    "\n",
    "$\\vdots$"
   ]
  },
  {
   "cell_type": "markdown",
   "metadata": {
    "slideshow": {
     "slide_type": "slide"
    }
   },
   "source": [
    "# OK. How we do it?\n",
    "More formally given training data $\\{ x_i \\in \\mathbb{R}^n \\}_{i =1}^{N}$, find predefined $c$ clusters satisfying some closeness criteria. Here no label $y_i$ is given. Hence it is unsupervised machine learning problem."
   ]
  },
  {
   "cell_type": "markdown",
   "metadata": {
    "slideshow": {
     "slide_type": "subslide"
    }
   },
   "source": [
    "## k-mean alogorithm\n",
    "- initialize $m$ clusters center $\\mu_j$ for $j= 1, 2, \\cdots M$ randomly. $\\mu_j$ are our current guess fo cluster centers.\n",
    "- Repeart until convergence(cluster assignment doesn't change)\n",
    "\n",
    "  - For each data point$x_i$ compute $c_i = \\;argmin_j \\; \\|x_i - \\mu_j \\|^2$. This assign each $x_i$ to its nearest cluster.\n",
    "  - compute new clusters centers as $\\mu_j = \\frac{\\sum_i^N x_i \\text{ if } c_i = j}{\\# x_i \\text{ where  } c_i = j  }.$"
   ]
  },
  {
   "cell_type": "markdown",
   "metadata": {
    "slideshow": {
     "slide_type": "subslide"
    }
   },
   "source": [
    "Note:\n",
    "- K-mean alogorithm is gauranteed to converge to a local minimum.\n"
   ]
  },
  {
   "cell_type": "markdown",
   "metadata": {
    "slideshow": {
     "slide_type": "subslide"
    }
   },
   "source": [
    "To main issue to consider\n",
    "- Are there other way to initialized cluster centers\n",
    "- What if we don't know number of clusters $M$"
   ]
  },
  {
   "cell_type": "markdown",
   "metadata": {
    "slideshow": {
     "slide_type": "subslide"
    }
   },
   "source": [
    "K mean ++ (better initialization)\n",
    "- choose first center  from data points as per uniform probability distribution\n",
    "- Calculate $D(x)$, distance between remaining points and nearest center already choosen.\n",
    "- Choose new point a, another center with probability proportional to $D(x)^2$\n",
    "- choose k points as centers and use standard k mean"
   ]
  },
  {
   "cell_type": "markdown",
   "metadata": {
    "slideshow": {
     "slide_type": "subslide"
    }
   },
   "source": [
    "# Number of clusters\n",
    "[Elbow method](https://en.wikipedia.org/wiki/Elbow_method_(clustering) )\n",
    "\n"
   ]
  },
  {
   "cell_type": "markdown",
   "metadata": {
    "slideshow": {
     "slide_type": "slide"
    }
   },
   "source": [
    "# Other methods\n",
    "- Spectral clustering\n",
    "- Mean-Shift Clustering\n",
    "- Expectation–Maximization (EM) Clustering using Gaussian Mixture Models (GMM)\n",
    "- Agglomerative Hierarchical Clustering\n",
    "-\n",
    "- "
   ]
  }
 ],
 "metadata": {
  "celltoolbar": "Slideshow",
  "kernelspec": {
   "display_name": "Python 3",
   "language": "python",
   "name": "python3"
  },
  "language_info": {
   "codemirror_mode": {
    "name": "ipython",
    "version": 3
   },
   "file_extension": ".py",
   "mimetype": "text/x-python",
   "name": "python",
   "nbconvert_exporter": "python",
   "pygments_lexer": "ipython3",
   "version": "3.6.4"
  }
 },
 "nbformat": 4,
 "nbformat_minor": 2
}
