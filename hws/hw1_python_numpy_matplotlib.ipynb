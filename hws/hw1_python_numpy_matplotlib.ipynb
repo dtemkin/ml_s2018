{
 "cells": [
  {
   "cell_type": "markdown",
   "metadata": {},
   "source": [
    "# Solve following  coding problem in  python and numpy"
   ]
  },
  {
   "cell_type": "markdown",
   "metadata": {},
   "source": [
    "- Load this notebook using jupyter(or anaconda navigator)\n",
    "- to run the code cell press **ctr+enter**\n",
    "- to run the code and create new  cell press **alt+enter**\n",
    "- Write your code in line **annotated with # write code here.**"
   ]
  },
  {
   "cell_type": "markdown",
   "metadata": {},
   "source": [
    "## Q 1 (1 point) Write a one line list comprehension to calculate cube of number from 1 to 10  only for odd numbers in increasing order\n",
    "#hint answer must be [1, 27, 125, 343, 729]"
   ]
  },
  {
   "cell_type": "code",
   "execution_count": null,
   "metadata": {},
   "outputs": [],
   "source": [
    "x = # write list compherension here code\n",
    "\n",
    "# Don't worry about this assert statement it only checks values in x for correctness\n",
    "assert all([ i==j for i, j in zip(x,[1, 27, 125, 343, 729] )]), \"list doesn't match\""
   ]
  },
  {
   "cell_type": "markdown",
   "metadata": {},
   "source": [
    "## Q2.(1 point) Find the frequency of numbers in following list using a python dictionary\n",
    " hint: answer ignoring the order of key:value pair answer should be {11: 2, 15: 3, 17: 1, 19: 1}"
   ]
  },
  {
   "cell_type": "code",
   "execution_count": null,
   "metadata": {},
   "outputs": [],
   "source": [
    "my_list = [11, 15, 17, 11, 15, 19, 15]\n",
    " # write code here"
   ]
  },
  {
   "cell_type": "markdown",
   "metadata": {},
   "source": [
    "# Q3.(1 point) Solve the Q2 using default dictionary from python collections module"
   ]
  },
  {
   "cell_type": "code",
   "execution_count": null,
   "metadata": {},
   "outputs": [],
   "source": [
    "from collections import defaultdict\n",
    "# Write code here"
   ]
  },
  {
   "cell_type": "markdown",
   "metadata": {},
   "source": [
    "# Q4 .(1 point) Solve the Q2 using Counter from python collection module\n",
    "# You have to import Counter from collections"
   ]
  },
  {
   "cell_type": "code",
   "execution_count": null,
   "metadata": {},
   "outputs": [],
   "source": [
    "# write code here, you code should not be more than two lines"
   ]
  },
  {
   "cell_type": "markdown",
   "metadata": {},
   "source": [
    "# Q5 (1 point) Print all possible combinations of 2 letters from my_list\n",
    "# using combinations from itertools library\n",
    "hint: your answer should be (2, 5)\n",
    "(2, 7)\n",
    "(5, 7)\n",
    "ignoring the order or element in each tuple"
   ]
  },
  {
   "cell_type": "code",
   "execution_count": null,
   "metadata": {},
   "outputs": [],
   "source": [
    "my_list= [2, 5,7]\n",
    "#write code here"
   ]
  },
  {
   "cell_type": "markdown",
   "metadata": {},
   "source": [
    "# Q6(1 point) Using slicing, print all the element from  2 to 3 rd row and 1 to 3 column in following 2d numpy array\n",
    "hint. Be careful about zero based indexing and you answer should be \n",
    "array([[ 6,  7,  8],\n",
    "\n",
    "      [12, 13, 14]])"
   ]
  },
  {
   "cell_type": "code",
   "execution_count": null,
   "metadata": {},
   "outputs": [],
   "source": [
    "import numpy as np\n",
    "my_arr = np.arange(30).reshape((5, 6))\n",
    "my_arr"
   ]
  },
  {
   "cell_type": "code",
   "execution_count": null,
   "metadata": {},
   "outputs": [],
   "source": [
    "# write code here"
   ]
  },
  {
   "cell_type": "markdown",
   "metadata": {},
   "source": [
    "# Q7 (1 point) From linalg submodule of numpy use svd for matrix factorization \n",
    "# use full_matrices=True argument in svd\n"
   ]
  },
  {
   "cell_type": "code",
   "execution_count": null,
   "metadata": {},
   "outputs": [],
   "source": [
    "# svd. singluar value decomposition\n",
    "np.random.seed(1)\n",
    "a = np.random.randn(4,3)\n",
    "print('original matrix')\n",
    "print(a)\n",
    "###############################\n",
    "\n",
    "u, s, vh = # write code here\n",
    "\n",
    "\n",
    "\n",
    "###############################\n",
    "\n",
    "print('Multiplying back')\n",
    "print(np.dot(u[:,:3]*s, vh))\n",
    "print(u.shape, s.shape, vh.shape)\n",
    "# let check if factorization is  true\n",
    "assert True == np.allclose(a, np.dot(u[:,:3]*s, vh)) , 'factorization is not true'"
   ]
  },
  {
   "cell_type": "markdown",
   "metadata": {},
   "source": [
    "# Some more numpy and matplotlib"
   ]
  },
  {
   "cell_type": "code",
   "execution_count": null,
   "metadata": {},
   "outputs": [],
   "source": [
    "import matplotlib.pyplot as plt\n",
    "import numpy as np\n",
    "%matplotlib inline # we have to use this statment to make plot in line in notebook, remove this line and see what happen"
   ]
  },
  {
   "cell_type": "markdown",
   "metadata": {},
   "source": [
    "# Q 8 (1 point)Using numpy draw 1000 sample from normal distriubtion with mean 3 and standard deviation 2\n"
   ]
  },
  {
   "cell_type": "code",
   "execution_count": null,
   "metadata": {},
   "outputs": [],
   "source": [
    "# write code here"
   ]
  },
  {
   "cell_type": "markdown",
   "metadata": {},
   "source": [
    "# Q 9 (2 point) plot normalized histogram using 30 bins"
   ]
  },
  {
   "cell_type": "code",
   "execution_count": null,
   "metadata": {},
   "outputs": [],
   "source": [
    "# write code here"
   ]
  }
 ],
 "metadata": {
  "kernelspec": {
   "display_name": "Python 3",
   "language": "python",
   "name": "python3"
  },
  "language_info": {
   "codemirror_mode": {
    "name": "ipython",
    "version": 3
   },
   "file_extension": ".py",
   "mimetype": "text/x-python",
   "name": "python",
   "nbconvert_exporter": "python",
   "pygments_lexer": "ipython3",
   "version": "3.6.4"
  }
 },
 "nbformat": 4,
 "nbformat_minor": 2
}
