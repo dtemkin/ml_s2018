{
 "cells": [
  {
   "cell_type": "markdown",
   "metadata": {
    "slideshow": {
     "slide_type": "slide"
    }
   },
   "source": [
    "# Let's flow some tensors for multi class logistic regression"
   ]
  },
  {
   "cell_type": "code",
   "execution_count": 1,
   "metadata": {
    "scrolled": true,
    "slideshow": {
     "slide_type": "subslide"
    }
   },
   "outputs": [
    {
     "name": "stderr",
     "output_type": "stream",
     "text": [
      "/home/pooran/anaconda3/lib/python3.6/site-packages/h5py/__init__.py:36: FutureWarning: Conversion of the second argument of issubdtype from `float` to `np.floating` is deprecated. In future, it will be treated as `np.float64 == np.dtype(float).type`.\n",
      "  from ._conv import register_converters as _register_converters\n"
     ]
    }
   ],
   "source": [
    "import tensorflow as tf # need to import the right package\n",
    "import numpy as np "
   ]
  },
  {
   "cell_type": "markdown",
   "metadata": {
    "slideshow": {
     "slide_type": "slide"
    }
   },
   "source": [
    "\n",
    "Here we will build a simple logistic regression model to classify mnist data set\n",
    "\n",
    "Task: **classify the hadwritten digit label $\\in \\{1, 2, \\cdots, 9 \\}$ using pixel from the digit image.**\n",
    "\n",
    "This is classification(discrete label output) problem and multi class logistic regression can be used here\n",
    "\n",
    "Check   [Yann LeCun](http://yann.lecun.com/),      http://yann.lecun.com/exdb/mnist/  website for details about mnist dataset etc.\n",
    "\n"
   ]
  },
  {
   "cell_type": "code",
   "execution_count": 2,
   "metadata": {
    "slideshow": {
     "slide_type": "subslide"
    }
   },
   "outputs": [
    {
     "name": "stdout",
     "output_type": "stream",
     "text": [
      "WARNING:tensorflow:From <ipython-input-2-93d8da72a918>:2: read_data_sets (from tensorflow.contrib.learn.python.learn.datasets.mnist) is deprecated and will be removed in a future version.\n",
      "Instructions for updating:\n",
      "Please use alternatives such as official/mnist/dataset.py from tensorflow/models.\n",
      "WARNING:tensorflow:From /home/pooran/anaconda3/lib/python3.6/site-packages/tensorflow/contrib/learn/python/learn/datasets/mnist.py:260: maybe_download (from tensorflow.contrib.learn.python.learn.datasets.base) is deprecated and will be removed in a future version.\n",
      "Instructions for updating:\n",
      "Please write your own downloading logic.\n",
      "WARNING:tensorflow:From /home/pooran/anaconda3/lib/python3.6/site-packages/tensorflow/contrib/learn/python/learn/datasets/mnist.py:262: extract_images (from tensorflow.contrib.learn.python.learn.datasets.mnist) is deprecated and will be removed in a future version.\n",
      "Instructions for updating:\n",
      "Please use tf.data to implement this functionality.\n",
      "Extracting MNIST_data/train-images-idx3-ubyte.gz\n",
      "WARNING:tensorflow:From /home/pooran/anaconda3/lib/python3.6/site-packages/tensorflow/contrib/learn/python/learn/datasets/mnist.py:267: extract_labels (from tensorflow.contrib.learn.python.learn.datasets.mnist) is deprecated and will be removed in a future version.\n",
      "Instructions for updating:\n",
      "Please use tf.data to implement this functionality.\n",
      "Extracting MNIST_data/train-labels-idx1-ubyte.gz\n",
      "WARNING:tensorflow:From /home/pooran/anaconda3/lib/python3.6/site-packages/tensorflow/contrib/learn/python/learn/datasets/mnist.py:110: dense_to_one_hot (from tensorflow.contrib.learn.python.learn.datasets.mnist) is deprecated and will be removed in a future version.\n",
      "Instructions for updating:\n",
      "Please use tf.one_hot on tensors.\n",
      "Extracting MNIST_data/t10k-images-idx3-ubyte.gz\n",
      "Extracting MNIST_data/t10k-labels-idx1-ubyte.gz\n",
      "WARNING:tensorflow:From /home/pooran/anaconda3/lib/python3.6/site-packages/tensorflow/contrib/learn/python/learn/datasets/mnist.py:290: DataSet.__init__ (from tensorflow.contrib.learn.python.learn.datasets.mnist) is deprecated and will be removed in a future version.\n",
      "Instructions for updating:\n",
      "Please use alternatives such as official/mnist/dataset.py from tensorflow/models.\n"
     ]
    }
   ],
   "source": [
    "from tensorflow.examples.tutorials.mnist import input_data\n",
    "mnist = input_data.read_data_sets('MNIST_data', one_hot=True)"
   ]
  },
  {
   "cell_type": "markdown",
   "metadata": {},
   "source": [
    "## Verify everthing looks good"
   ]
  },
  {
   "cell_type": "code",
   "execution_count": 3,
   "metadata": {},
   "outputs": [
    {
     "name": "stdout",
     "output_type": "stream",
     "text": [
      "55000 training example with shape (784,)\n",
      "10000 test example with shape (784,)\n"
     ]
    },
    {
     "data": {
      "text/plain": [
       "(55000, 784)"
      ]
     },
     "execution_count": 3,
     "metadata": {},
     "output_type": "execute_result"
    }
   ],
   "source": [
    "print('{} training example with shape {}'.format(mnist.train.num_examples, mnist.train.images[0].shape))\n",
    "print('{} test example with shape {}'.format(mnist.test.num_examples, mnist.test.images[0].shape))\n",
    "mnist.train.images.shape"
   ]
  },
  {
   "cell_type": "markdown",
   "metadata": {},
   "source": [
    "Dataset contains 55000 training and 10000 test example for handwritten digits in vectorized form(take pixel along rows and stack them in a column vector).\n",
    "\n",
    "Images are 28X28 gray scale. After vectrorization we have 784 dimentional vector"
   ]
  },
  {
   "cell_type": "code",
   "execution_count": 4,
   "metadata": {},
   "outputs": [
    {
     "data": {
      "text/plain": [
       "True"
      ]
     },
     "execution_count": 4,
     "metadata": {},
     "output_type": "execute_result"
    }
   ],
   "source": [
    "28*28 == 784"
   ]
  },
  {
   "cell_type": "markdown",
   "metadata": {},
   "source": [
    "## Let's do some sanity check"
   ]
  },
  {
   "cell_type": "code",
   "execution_count": 5,
   "metadata": {},
   "outputs": [
    {
     "name": "stdout",
     "output_type": "stream",
     "text": [
      "[0 1 2 3 4 5 6 7 8 9]\n"
     ]
    }
   ],
   "source": [
    "\n",
    "NUM_CLASSES = 10\n",
    "X_DIM = 28\n",
    "Y_DIM = 28\n",
    "import numpy as np\n",
    "unique_label = np.unique(np.argmax(mnist.train.labels, 1))\n",
    "print(unique_label)\n",
    "assert NUM_CLASSES == len(unique_label), 'number of label does not match'\n",
    "assert X_DIM*Y_DIM == mnist.train.images[0].size, 'total pixel does not match'"
   ]
  },
  {
   "cell_type": "markdown",
   "metadata": {},
   "source": [
    "## Let's randomly view some of them"
   ]
  },
  {
   "cell_type": "code",
   "execution_count": 6,
   "metadata": {},
   "outputs": [],
   "source": [
    "# magic command so that images are inline in notebook\n",
    "%matplotlib inline \n",
    "import matplotlib.pyplot as plt # visualization package in python"
   ]
  },
  {
   "cell_type": "code",
   "execution_count": 7,
   "metadata": {},
   "outputs": [
    {
     "name": "stdout",
     "output_type": "stream",
     "text": [
      "[ 2732 43567 42613 52416 45891 21243 30403 32103 41993 20757 46884 14935\n",
      " 15430 48600 39512 52620]\n"
     ]
    },
    {
     "data": {
      "image/png": "[encoded data removed]",
      "text/plain": [
       "<Figure size 1152x1152 with 16 Axes>"
      ]
     },
     "metadata": {},
     "output_type": "display_data"
    }
   ],
   "source": [
    "np.random.seed(0) # to make sure we have deterministic results on each iteration\n",
    "NUM_FIG_DISP = 16\n",
    "nrow = NUM_FIG_DISP//2\n",
    "ncol = NUM_FIG_DISP//2\n",
    "rand_ind = np.random.randint(mnist.train.num_examples, size=NUM_FIG_DISP)\n",
    "print(rand_ind)\n",
    "plt.figure(1,figsize= (16, 16))\n",
    "plt.gray()\n",
    "for idx, image_index in enumerate(rand_ind):\n",
    "    plt.subplot(nrow,ncol,idx +1)\n",
    "    # Have to reshape to 28x28 for display\n",
    "    plt.imshow(np.reshape(mnist.train.images[image_index], (X_DIM, Y_DIM)) )\n",
    "    plt.title('label is {}'.format(np.argmax(mnist.train.labels[image_index])))  \n",
    "    plt.axis('off')\n",
    "plt.show()"
   ]
  },
  {
   "cell_type": "markdown",
   "metadata": {},
   "source": [
    "## define  multi class logistic regression  model"
   ]
  },
  {
   "cell_type": "markdown",
   "metadata": {},
   "source": [
    "### Remember for each class $c \\in \\{1, 2, \\cdots, K= 10   \\}$ we need to compute\n",
    "\n",
    " probablity\n",
    " <font size = 6>\n",
    " $P(y = c|x) = \\frac{\\exp(w_{oc} + w_c^Tx)}{\\sum_i^K \\exp(w_{oi} + w_i^Tx) }$\n",
    " </font>\n",
    " \n",
    " \n",
    " Note the one can either add 1 to features or work with $D+1$ dimentional features or add class bias $w_{oc}$ term for each class explicility as done in above formula.\n",
    " \n",
    " We can keep each weight vector $[w_{c}]_{D \\times 1}$ in $D\\times K$ matrix $W$, \n",
    " $$W = {\\begin{bmatrix} w_1, w_2, \\cdots, w_K \\end{bmatrix}}_{D \\times K}$$\n",
    " \n",
    " and class biases  in vector  $W_o = {\\begin{bmatrix} w_{o1}\\\\ w_{02} \\\\ \\vdots \\\\ w_{0K} \\end{bmatrix}}_{K \\times 1}$. $D$ is data dimension.\n",
    " \n",
    " \n",
    " Using matrix operation we can calculate each class probability for given example $x_{784 \\times 1}$ by doing\n",
    " \n",
    " $softmax(W_o +  W^T x)$ where \n",
    " \n",
    " $$W_o + W^Tx = \\begin{bmatrix} w_{o1}\\\\ \\vdots \\\\ w_{oK} \\end{bmatrix} + \\begin{bmatrix}  w_1^T\\\\ \\vdots \\\\  w_K^T \\end{bmatrix} x = \\begin{bmatrix}w_{01} + w_1^Tx\\\\ \\vdots \\\\ w_{0K} + w_K^Tx \\end{bmatrix}$$\n",
    " \n",
    " Also remember that \n",
    " <font size = 5>\n",
    " \n",
    " $$softmax(\\begin{bmatrix} z_1 \\\\ z_2 \\\\ \\vdots \\\\ z_K  \\end{bmatrix}) = \\begin{bmatrix} \\frac{\\exp(z_1)}{\\sum_i^K \\exp(z_i)} \\\\ \\frac{\\exp(z_2)}{\\sum_i^K \\exp(z_i)} \\\\ \\vdots \\\\ \\frac{\\exp(z_K)}{\\sum_i^K \\exp(z_i)}  \\end{bmatrix} $$ </font>\n",
    " \n",
    " Convince yourself that after applying softmax we will get the formula at the beginning of the cell."
   ]
  },
  {
   "cell_type": "markdown",
   "metadata": {},
   "source": [
    "# Let's try to  code above equations using tensorflow computational graph"
   ]
  },
  {
   "cell_type": "code",
   "execution_count": 8,
   "metadata": {
    "scrolled": true
   },
   "outputs": [
    {
     "name": "stdout",
     "output_type": "stream",
     "text": [
      "(?, 784) (?, 10)\n",
      "(?, 784) (784, 10) (10, 1)\n",
      "shape of prediction vector is (10, ?)\n"
     ]
    }
   ],
   "source": [
    "PIXELS_PER_SAMPLE = X_DIM*Y_DIM\n",
    "\n",
    "X =  tf.placeholder(tf.float32, [None, PIXELS_PER_SAMPLE])\n",
    "Y = tf.placeholder(tf.float32, [None, NUM_CLASSES])\n",
    "\n",
    "print(X.shape, Y.shape)\n",
    "with tf.variable_scope(\"multi_class_logistic_model\", reuse=tf.AUTO_REUSE):\n",
    "    W = tf.get_variable('Weight_matrix', initializer = tf.random_normal(shape = (X_DIM*Y_DIM, NUM_CLASSES)))    \n",
    "    W_o= tf.get_variable('class_bias_vector',  initializer = tf.zeros(shape = (NUM_CLASSES,1)))\n",
    "    print(X.shape, W.shape, W_o.shape)\n",
    "    # we have to do X traspose as examples are along the row and we need them along columns\n",
    "\n",
    "    Y_pred = tf.matmul(tf.transpose(W), tf.transpose(X))  + W_o\n",
    "    \n",
    "print('shape of prediction vector is {}'.format(Y_pred.shape))\n"
   ]
  },
  {
   "cell_type": "markdown",
   "metadata": {},
   "source": [
    "# ? represent free dimension so let transpose it again to keep free dimention first"
   ]
  },
  {
   "cell_type": "code",
   "execution_count": 9,
   "metadata": {},
   "outputs": [
    {
     "name": "stdout",
     "output_type": "stream",
     "text": [
      "shape of prediction vector is (?, 10)\n"
     ]
    }
   ],
   "source": [
    "\n",
    "Y_pred = tf.transpose(Y_pred)\n",
    "print('shape of prediction vector is {}'.format(Y_pred.shape))"
   ]
  },
  {
   "cell_type": "markdown",
   "metadata": {},
   "source": [
    "\n",
    "\n",
    "<font color = \"red\">Also above code can we written(most of the time you will see tensorflow code other way around) without so much transpose operations but then we have to think of above equations in transpose sense </font> \n",
    "\n",
    "It doesn't matter how you keep examples/weight in matrix(row or columns fashion). Just be careful about interpretation."
   ]
  },
  {
   "cell_type": "markdown",
   "metadata": {},
   "source": [
    "## Let's convert this score vector of 10 into probability vector using softmax"
   ]
  },
  {
   "cell_type": "code",
   "execution_count": 10,
   "metadata": {},
   "outputs": [],
   "source": [
    "Y_pred_prob = tf.nn.softmax(Y_pred)"
   ]
  },
  {
   "cell_type": "markdown",
   "metadata": {},
   "source": [
    "## build a loss/cost/objective function to measure how good we are doing\n",
    "\n",
    "We use cross entopy as discussed in the class"
   ]
  },
  {
   "cell_type": "code",
   "execution_count": 11,
   "metadata": {},
   "outputs": [],
   "source": [
    "loss = tf.reduce_mean(-Y*tf.log(Y_pred_prob))"
   ]
  },
  {
   "cell_type": "markdown",
   "metadata": {},
   "source": [
    "## build an accuracy measure"
   ]
  },
  {
   "cell_type": "code",
   "execution_count": 12,
   "metadata": {},
   "outputs": [],
   "source": [
    "accuracy = tf.equal(tf.argmax(Y,1), tf.argmax(Y_pred_prob,1)) # picking the index of high probabiity\n",
    "accuracy = tf.cast(accuracy, tf.float32)\n",
    "accuracy = tf.reduce_mean(accuracy)"
   ]
  },
  {
   "cell_type": "code",
   "execution_count": 13,
   "metadata": {},
   "outputs": [
    {
     "data": {
      "text/plain": [
       "TensorShape([])"
      ]
     },
     "execution_count": 13,
     "metadata": {},
     "output_type": "execute_result"
    }
   ],
   "source": [
    "accuracy.get_shape()"
   ]
  },
  {
   "cell_type": "markdown",
   "metadata": {},
   "source": [
    "## let create an optimizer"
   ]
  },
  {
   "cell_type": "markdown",
   "metadata": {},
   "source": [
    "Remember some time there is no close form solution to find parameters $W$ which maximizes likelihood or log likelihood function $C(W)$ (**MLE estimation procedure**) as in logistic regression. We showed that if function $C(W)$  is differentiable\n",
    "one can use an iterative procedure called **gradient descent(GD)** to update the parameters.\n",
    "\n",
    "$W_{k+1} = W_k + \\eta \\frac{dC(W)}{W}$\n",
    "\n",
    "where $C(W) = \\sum_{i=1}^{N}$cross_entropy(true_probability_i, machine_predicted_probability_i)\n",
    "\n",
    "- To update parameter we have to compute $C(W)$ for all the example at every step. This can be\n",
    "computationalty expensive if we have millions of example\n",
    "\n",
    "One extreme is shuffle all the example and use one example(cost/loss of one example) at a time. This is called\n",
    "\n",
    "**Stochastic GD**\n",
    "for i in range(N):\n",
    "    $W_{k+1} = W_k + \\eta \\frac{dC(W)_i}{W}$\n",
    "    \n",
    "As you can guess with this approach our search path for parameter search can be quite noisy. There are lot of other mathematical questions we need to ask,\n",
    "- like will learned parameters  be correct?\n",
    "- Will cost decrease or not?\n",
    "\n",
    "In short there are gurantees if cost function is convex.\n",
    "\n",
    "We can take a midway approach called **Mini-batch gradient**, where we use small portion of total example at each step to update the parameters $W$\n",
    "\n",
    "Lingo we need to get used to is \n",
    "\n",
    "- size of Mini-batch is called batch size\n",
    "- As you can guess we are not using all the example in each iteration/step, hence we need to make multiple\n",
    "  iteration of batch size so that optimization alogorithm has seen all the example.\n",
    "- An Epoch is a complete pass through all the training data. An Epcoh will contain multiple iteration of batch size examples\n",
    "- We use multiple pass through training examples(epoch) to learn value of parameter $W$. Also we need to shuffle examples at each new epoch.\n",
    "\n",
    "    \n",
    "    "
   ]
  },
  {
   "cell_type": "code",
   "execution_count": 14,
   "metadata": {},
   "outputs": [],
   "source": [
    "opt = tf.train.GradientDescentOptimizer(learning_rate = .25).minimize(loss)\n",
    "#opt= tf.train.AdamOptimizer(learning_rate = .0001).minimize(loss)"
   ]
  },
  {
   "cell_type": "code",
   "execution_count": 15,
   "metadata": {},
   "outputs": [
    {
     "name": "stdout",
     "output_type": "stream",
     "text": [
      "float32\n",
      "float64\n"
     ]
    }
   ],
   "source": [
    "print(mnist.train.images[0].dtype)\n",
    "print(mnist.train.labels[0].dtype)"
   ]
  },
  {
   "cell_type": "code",
   "execution_count": 16,
   "metadata": {},
   "outputs": [],
   "source": [
    "BATCH_SIZE = 100\n",
    "NUM_EPOCHS = 20"
   ]
  },
  {
   "cell_type": "markdown",
   "metadata": {},
   "source": [
    "## Lets run the model and see how it performing\n",
    "\n",
    "Note here I am using test data as validation data here."
   ]
  },
  {
   "cell_type": "code",
   "execution_count": 17,
   "metadata": {},
   "outputs": [
    {
     "name": "stdout",
     "output_type": "stream",
     "text": [
      "epoch 1 training batch 100 loss 0.9014299511909485 accu 0.1599999964237213\n",
      "epoch 1 training batch 200 loss 0.5916724801063538 accu 0.23000000417232513\n",
      "epoch 1 training batch 300 loss 0.4246673882007599 accu 0.38999998569488525\n",
      "epoch 1 training batch 400 loss 0.3494284451007843 accu 0.49000000953674316\n",
      "epoch 1 training batch 500 loss 0.3085678815841675 accu 0.47999998927116394\n",
      "##################################\n",
      "epoch 1 # test accuracy 0.5232999920845032 $ test loss 0.28506243228912354\n",
      "##################################\n",
      "epoch 2 training batch 100 loss 0.3459147810935974 accu 0.44999998807907104\n",
      "epoch 2 training batch 200 loss 0.28825122117996216 accu 0.5400000214576721\n",
      "epoch 2 training batch 300 loss 0.24310171604156494 accu 0.6000000238418579\n",
      "epoch 2 training batch 400 loss 0.23807105422019958 accu 0.5899999737739563\n",
      "epoch 2 training batch 500 loss 0.16303911805152893 accu 0.6800000071525574\n",
      "##################################\n",
      "epoch 2 # test accuracy 0.6689000129699707 $ test loss 0.18111462891101837\n",
      "##################################\n",
      "epoch 3 training batch 100 loss 0.1676875650882721 accu 0.6800000071525574\n",
      "epoch 3 training batch 200 loss 0.23151424527168274 accu 0.6499999761581421\n",
      "epoch 3 training batch 300 loss 0.22365914285182953 accu 0.6200000047683716\n",
      "epoch 3 training batch 400 loss 0.14116333425045013 accu 0.6800000071525574\n",
      "epoch 3 training batch 500 loss 0.18944354355335236 accu 0.699999988079071\n",
      "##################################\n",
      "epoch 3 # test accuracy 0.728600025177002 $ test loss 0.14434084296226501\n",
      "##################################\n",
      "epoch 4 training batch 100 loss 0.16906572878360748 accu 0.6800000071525574\n",
      "epoch 4 training batch 200 loss 0.14995241165161133 accu 0.7200000286102295\n",
      "epoch 4 training batch 300 loss 0.14369630813598633 accu 0.7799999713897705\n",
      "epoch 4 training batch 400 loss 0.1263020932674408 accu 0.8100000023841858\n",
      "epoch 4 training batch 500 loss 0.148206427693367 accu 0.7200000286102295\n",
      "##################################\n",
      "epoch 4 # test accuracy 0.7615000009536743 $ test loss 0.12486840039491653\n",
      "##################################\n",
      "epoch 5 training batch 100 loss 0.16159987449645996 accu 0.7400000095367432\n",
      "epoch 5 training batch 200 loss 0.1734052151441574 accu 0.6299999952316284\n",
      "epoch 5 training batch 300 loss 0.09440480172634125 accu 0.7300000190734863\n",
      "epoch 5 training batch 400 loss 0.17016492784023285 accu 0.75\n",
      "epoch 5 training batch 500 loss 0.14710797369480133 accu 0.7200000286102295\n",
      "##################################\n",
      "epoch 5 # test accuracy 0.7824000120162964 $ test loss 0.11260468512773514\n",
      "##################################\n",
      "epoch 6 training batch 100 loss 0.09700795263051987 accu 0.7599999904632568\n",
      "epoch 6 training batch 200 loss 0.08906938880681992 accu 0.8399999737739563\n",
      "epoch 6 training batch 300 loss 0.09667807072401047 accu 0.800000011920929\n",
      "epoch 6 training batch 400 loss 0.14615842700004578 accu 0.7300000190734863\n",
      "epoch 6 training batch 500 loss 0.10180182009935379 accu 0.7599999904632568\n",
      "##################################\n",
      "epoch 6 # test accuracy 0.7949000000953674 $ test loss 0.1041252538561821\n",
      "##################################\n",
      "epoch 7 training batch 100 loss 0.11476852744817734 accu 0.7699999809265137\n",
      "epoch 7 training batch 200 loss 0.10935183614492416 accu 0.7900000214576721\n",
      "epoch 7 training batch 300 loss 0.08078647404909134 accu 0.8299999833106995\n",
      "epoch 7 training batch 400 loss 0.06306218355894089 accu 0.8299999833106995\n",
      "epoch 7 training batch 500 loss 0.07077351957559586 accu 0.8799999952316284\n",
      "##################################\n",
      "epoch 7 # test accuracy 0.8080999851226807 $ test loss 0.09779124706983566\n",
      "##################################\n",
      "epoch 8 training batch 100 loss 0.09589455276727676 accu 0.7900000214576721\n",
      "epoch 8 training batch 200 loss 0.11602190881967545 accu 0.75\n",
      "epoch 8 training batch 300 loss 0.11603422462940216 accu 0.7799999713897705\n",
      "epoch 8 training batch 400 loss 0.11028441786766052 accu 0.8100000023841858\n",
      "epoch 8 training batch 500 loss 0.0737185850739479 accu 0.8500000238418579\n",
      "##################################\n",
      "epoch 8 # test accuracy 0.8174999952316284 $ test loss 0.09272865206003189\n",
      "##################################\n",
      "epoch 9 training batch 100 loss 0.08417997509241104 accu 0.8299999833106995\n",
      "epoch 9 training batch 200 loss 0.05743192881345749 accu 0.8399999737739563\n",
      "epoch 9 training batch 300 loss 0.0907474085688591 accu 0.8199999928474426\n",
      "epoch 9 training batch 400 loss 0.10789068043231964 accu 0.8100000023841858\n",
      "epoch 9 training batch 500 loss 0.06823654472827911 accu 0.8799999952316284\n",
      "##################################\n",
      "epoch 9 # test accuracy 0.8248000144958496 $ test loss 0.0886860191822052\n",
      "##################################\n",
      "epoch 10 training batch 100 loss 0.07409236580133438 accu 0.8199999928474426\n",
      "epoch 10 training batch 200 loss 0.068172387778759 accu 0.8399999737739563\n",
      "epoch 10 training batch 300 loss 0.08573730289936066 accu 0.8700000047683716\n",
      "epoch 10 training batch 400 loss 0.09935816377401352 accu 0.8199999928474426\n",
      "epoch 10 training batch 500 loss 0.10839942842721939 accu 0.7900000214576721\n",
      "##################################\n",
      "epoch 10 # test accuracy 0.8288000226020813 $ test loss 0.0853748545050621\n",
      "##################################\n",
      "epoch 11 training batch 100 loss 0.05906260013580322 accu 0.8299999833106995\n",
      "epoch 11 training batch 200 loss 0.09861684590578079 accu 0.800000011920929\n",
      "epoch 11 training batch 300 loss 0.13069385290145874 accu 0.7699999809265137\n",
      "epoch 11 training batch 400 loss 0.10910841822624207 accu 0.800000011920929\n",
      "epoch 11 training batch 500 loss 0.07916437089443207 accu 0.7900000214576721\n",
      "##################################\n",
      "epoch 11 # test accuracy 0.8331999778747559 $ test loss 0.08254683762788773\n",
      "##################################\n",
      "epoch 12 training batch 100 loss 0.12393571436405182 accu 0.75\n",
      "epoch 12 training batch 200 loss 0.08524610102176666 accu 0.8399999737739563\n",
      "epoch 12 training batch 300 loss 0.04399813339114189 accu 0.8700000047683716\n",
      "epoch 12 training batch 400 loss 0.046949293464422226 accu 0.8899999856948853\n",
      "epoch 12 training batch 500 loss 0.07774204760789871 accu 0.8500000238418579\n",
      "##################################\n",
      "epoch 12 # test accuracy 0.836899995803833 $ test loss 0.0800296813249588\n",
      "##################################\n",
      "epoch 13 training batch 100 loss 0.07100509107112885 accu 0.8500000238418579\n",
      "epoch 13 training batch 200 loss 0.07183954864740372 accu 0.8399999737739563\n",
      "epoch 13 training batch 300 loss 0.08598759025335312 accu 0.7799999713897705\n",
      "epoch 13 training batch 400 loss 0.08609848469495773 accu 0.8100000023841858\n",
      "epoch 13 training batch 500 loss 0.06710199266672134 accu 0.8500000238418579\n",
      "##################################\n",
      "epoch 13 # test accuracy 0.8421000242233276 $ test loss 0.07776248455047607\n",
      "##################################\n",
      "epoch 14 training batch 100 loss 0.06638830155134201 accu 0.8600000143051147\n",
      "epoch 14 training batch 200 loss 0.05158788338303566 accu 0.8799999952316284\n",
      "epoch 14 training batch 300 loss 0.05712629109621048 accu 0.8100000023841858\n",
      "epoch 14 training batch 400 loss 0.06149215251207352 accu 0.8100000023841858\n",
      "epoch 14 training batch 500 loss 0.1014789268374443 accu 0.8500000238418579\n",
      "##################################\n",
      "epoch 14 # test accuracy 0.8450000286102295 $ test loss 0.07584531605243683\n",
      "##################################\n",
      "epoch 15 training batch 100 loss 0.07756047695875168 accu 0.800000011920929\n",
      "epoch 15 training batch 200 loss 0.05661800503730774 accu 0.8899999856948853\n",
      "epoch 15 training batch 300 loss 0.06466329842805862 accu 0.8399999737739563\n",
      "epoch 15 training batch 400 loss 0.05339978635311127 accu 0.8799999952316284\n",
      "epoch 15 training batch 500 loss 0.06197084113955498 accu 0.8299999833106995\n",
      "##################################\n",
      "epoch 15 # test accuracy 0.8478999733924866 $ test loss 0.07410809397697449\n",
      "##################################\n",
      "epoch 16 training batch 100 loss 0.09864017367362976 accu 0.8399999737739563\n",
      "epoch 16 training batch 200 loss 0.05207328125834465 accu 0.8999999761581421\n",
      "epoch 16 training batch 300 loss 0.06439428776502609 accu 0.8700000047683716\n",
      "epoch 16 training batch 400 loss 0.08818032592535019 accu 0.8299999833106995\n",
      "epoch 16 training batch 500 loss 0.06385479122400284 accu 0.8399999737739563\n",
      "##################################\n",
      "epoch 16 # test accuracy 0.8515999913215637 $ test loss 0.07255910336971283\n",
      "##################################\n"
     ]
    },
    {
     "name": "stdout",
     "output_type": "stream",
     "text": [
      "epoch 17 training batch 100 loss 0.044700540602207184 accu 0.8600000143051147\n",
      "epoch 17 training batch 200 loss 0.09818822890520096 accu 0.8700000047683716\n",
      "epoch 17 training batch 300 loss 0.062140293419361115 accu 0.8399999737739563\n",
      "epoch 17 training batch 400 loss 0.042425736784935 accu 0.9200000166893005\n",
      "epoch 17 training batch 500 loss 0.05146167799830437 accu 0.8899999856948853\n",
      "##################################\n",
      "epoch 17 # test accuracy 0.8533999919891357 $ test loss 0.0711313784122467\n",
      "##################################\n",
      "epoch 18 training batch 100 loss 0.13185352087020874 accu 0.7900000214576721\n",
      "epoch 18 training batch 200 loss 0.07781290262937546 accu 0.8199999928474426\n",
      "epoch 18 training batch 300 loss 0.06983955949544907 accu 0.8299999833106995\n",
      "epoch 18 training batch 400 loss 0.04688161239027977 accu 0.8799999952316284\n",
      "epoch 18 training batch 500 loss 0.08633913844823837 accu 0.8299999833106995\n",
      "##################################\n",
      "epoch 18 # test accuracy 0.8561999797821045 $ test loss 0.06967893242835999\n",
      "##################################\n",
      "epoch 19 training batch 100 loss 0.08020418137311935 accu 0.7799999713897705\n",
      "epoch 19 training batch 200 loss 0.033157799392938614 accu 0.8600000143051147\n",
      "epoch 19 training batch 300 loss 0.04611596092581749 accu 0.8600000143051147\n",
      "epoch 19 training batch 400 loss 0.03694493696093559 accu 0.8799999952316284\n",
      "epoch 19 training batch 500 loss 0.06659118086099625 accu 0.8600000143051147\n",
      "##################################\n",
      "epoch 19 # test accuracy 0.8568000197410583 $ test loss 0.06844309717416763\n",
      "##################################\n",
      "epoch 20 training batch 100 loss 0.05587248504161835 accu 0.8700000047683716\n",
      "epoch 20 training batch 200 loss 0.06095030903816223 accu 0.8999999761581421\n",
      "epoch 20 training batch 300 loss 0.07493323087692261 accu 0.8299999833106995\n",
      "epoch 20 training batch 400 loss 0.056541405618190765 accu 0.8899999856948853\n",
      "epoch 20 training batch 500 loss 0.09404623508453369 accu 0.800000011920929\n",
      "##################################\n",
      "epoch 20 # test accuracy 0.8582000136375427 $ test loss 0.06736757606267929\n",
      "##################################\n"
     ]
    }
   ],
   "source": [
    "train_losses, val_losses = [], []\n",
    "train_accuracies, val_accuracies = [], []\n",
    "with tf.Session() as sess:\n",
    "    sess.run(tf.global_variables_initializer())\n",
    "    for eidx in range(NUM_EPOCHS):\n",
    "        epoch_acc, epoch_loss = [], []\n",
    "        for bidx in range(mnist.train.num_examples// BATCH_SIZE):\n",
    "            xs, ys = mnist.train.next_batch(BATCH_SIZE)\n",
    "            xs = xs.astype(np.float32)\n",
    "            _, train_loss, train_acc= sess.run([opt, loss, accuracy], feed_dict={X:xs, Y:ys})\n",
    "            if (bidx+1)%100 == 0: # print result every 100 batch\n",
    "                print('epoch {} training batch {} loss {} accu {}'.format(eidx +1 , bidx +1, train_loss, train_acc))\n",
    "            epoch_acc.append(train_acc)\n",
    "            epoch_loss.append(train_loss)\n",
    "        print('##################################')\n",
    "        val_acc, val_loss = sess.run([accuracy, loss],\n",
    "            feed_dict= {X:mnist.test.images.astype(np.float32), Y: mnist.test.labels})\n",
    "        print('epoch {} # test accuracy {} $ test loss {}'.format(eidx +1, val_acc, val_loss ))\n",
    "        print('##################################') \n",
    "        # Let keep epoch level values for plotting\n",
    "        train_losses.append(np.mean(epoch_loss))\n",
    "        train_accuracies.append(np.mean(epoch_acc))\n",
    "        val_losses.append(val_loss)\n",
    "        val_accuracies.append(val_acc)\n",
    "                "
   ]
  },
  {
   "cell_type": "code",
   "execution_count": 18,
   "metadata": {},
   "outputs": [
    {
     "data": {
      "text/plain": [
       "[0.31429088,\n",
       " 0.58718187,\n",
       " 0.6819091,\n",
       " 0.7284,\n",
       " 0.7568546,\n",
       " 0.7749637,\n",
       " 0.7892909,\n",
       " 0.80018175,\n",
       " 0.8089455,\n",
       " 0.8156727,\n",
       " 0.8212364,\n",
       " 0.82623637,\n",
       " 0.83036363,\n",
       " 0.8343273,\n",
       " 0.8378,\n",
       " 0.8401819,\n",
       " 0.8437818,\n",
       " 0.84652734,\n",
       " 0.84810907,\n",
       " 0.8505454]"
      ]
     },
     "execution_count": 18,
     "metadata": {},
     "output_type": "execute_result"
    }
   ],
   "source": [
    "#len(val_losses)\n",
    "train_accuracies\n"
   ]
  },
  {
   "cell_type": "code",
   "execution_count": 19,
   "metadata": {},
   "outputs": [
    {
     "data": {
      "image/png": "[encoded data removed]",
      "text/plain": [
       "<Figure size 432x288 with 1 Axes>"
      ]
     },
     "metadata": {},
     "output_type": "display_data"
    }
   ],
   "source": [
    "plt.plot(range(1, NUM_EPOCHS+1),  train_accuracies)\n",
    "plt.plot(range(1, NUM_EPOCHS+1),  val_accuracies)\n",
    "plt.legend(['train accuracy','validation accuracy'])\n",
    "plt.show()"
   ]
  },
  {
   "cell_type": "code",
   "execution_count": 20,
   "metadata": {},
   "outputs": [
    {
     "data": {
      "image/png": "[encoded data removed]",
      "text/plain": [
       "<Figure size 432x288 with 1 Axes>"
      ]
     },
     "metadata": {},
     "output_type": "display_data"
    }
   ],
   "source": [
    "plt.plot(range(1, NUM_EPOCHS+1),  train_losses)\n",
    "plt.plot(range(1, NUM_EPOCHS+1),  val_losses)\n",
    "plt.legend(['train loss','validation loss'])\n",
    "plt.show()"
   ]
  },
  {
   "cell_type": "markdown",
   "metadata": {},
   "source": [
    "# In deep leaning section we will beat current accuracy numbers"
   ]
  }
 ],
 "metadata": {
  "celltoolbar": "Slideshow",
  "kernelspec": {
   "display_name": "Python 3",
   "language": "python",
   "name": "python3"
  },
  "language_info": {
   "codemirror_mode": {
    "name": "ipython",
    "version": 3
   },
   "file_extension": ".py",
   "mimetype": "text/x-python",
   "name": "python",
   "nbconvert_exporter": "python",
   "pygments_lexer": "ipython3",
   "version": "3.6.4"
  }
 },
 "nbformat": 4,
 "nbformat_minor": 1
}
