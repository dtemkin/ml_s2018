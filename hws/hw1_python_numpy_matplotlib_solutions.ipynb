{
 "cells": [
  {
   "cell_type": "markdown",
   "metadata": {},
   "source": [
    "# Solve following  coding problem in  python and numpy"
   ]
  },
  {
   "cell_type": "markdown",
   "metadata": {},
   "source": [
    "- Load this notebook using jupyter(or anaconda navigator)\n",
    "- to run the code cell press **ctr+enter**\n",
    "- to run the code and create new  cell press **alt+enter**"
   ]
  },
  {
   "cell_type": "markdown",
   "metadata": {},
   "source": [
    "## Q 1 (1) Write a one line list comprehension to calculate cube of number from 1 to 10  only for odd numbers in increasing order\n",
    "#hint answer must be [1, 27, 125, 343, 729]"
   ]
  },
  {
   "cell_type": "code",
   "execution_count": null,
   "metadata": {},
   "outputs": [],
   "source": [
    "x = # write list compherension here\n",
    "\n",
    "# Don't worry about this assert statement it only checks values in x for correctness\n",
    "assert all([ i==j for i, j in zip(x,[1, 27, 125, 343, 729] )]), \"list doesn't match\""
   ]
  },
  {
   "cell_type": "code",
   "execution_count": 4,
   "metadata": {},
   "outputs": [
    {
     "name": "stdout",
     "output_type": "stream",
     "text": [
      "[1, 27, 125, 343, 729]\n"
     ]
    }
   ],
   "source": [
    "# answer \n",
    "x = [ i**3 for i in range(1, 11) if i%2 !=0]\n",
    "print(x)\n",
    "assert all([ i==j for i, j in zip(x,[1, 27, 125, 343, 729] )]), \"list doesn't match\""
   ]
  },
  {
   "cell_type": "markdown",
   "metadata": {},
   "source": [
    "## Q2.(1 point) Find the frequency of numbers in following list using a python dictionary\n",
    " hint: answer ignoring the order of key:value pair answer should be {11: 2, 15: 3, 17: 1, 19: 1}"
   ]
  },
  {
   "cell_type": "code",
   "execution_count": 14,
   "metadata": {},
   "outputs": [],
   "source": [
    "my_list = [11, 15, 17, 11, 15, 19, 15]\n"
   ]
  },
  {
   "cell_type": "code",
   "execution_count": 17,
   "metadata": {},
   "outputs": [
    {
     "name": "stdout",
     "output_type": "stream",
     "text": [
      "{11: 2, 15: 3, 17: 1, 19: 1}\n"
     ]
    }
   ],
   "source": [
    "#answer\n",
    "my_dict = {}\n",
    "for item in my_list:\n",
    "    if item in my_dict:\n",
    "        my_dict[item] +=1\n",
    "    else:\n",
    "        my_dict[item] = 1\n",
    "print(my_dict)        "
   ]
  },
  {
   "cell_type": "markdown",
   "metadata": {},
   "source": [
    "# Q3.(1 point) Solve the Q2 using default dictionary from python collections module"
   ]
  },
  {
   "cell_type": "code",
   "execution_count": 18,
   "metadata": {},
   "outputs": [],
   "source": [
    "from collections import defaultdict\n",
    "# Write code here"
   ]
  },
  {
   "cell_type": "code",
   "execution_count": 20,
   "metadata": {},
   "outputs": [
    {
     "name": "stdout",
     "output_type": "stream",
     "text": [
      "defaultdict(<class 'int'>, {11: 2, 15: 3, 17: 1, 19: 1})\n"
     ]
    }
   ],
   "source": [
    "# answer\n",
    "my_dict = defaultdict(int)\n",
    "for item in my_list:\n",
    "    my_dict[item] += 1\n",
    "print(my_dict)    "
   ]
  },
  {
   "cell_type": "markdown",
   "metadata": {},
   "source": [
    "# Q4 .(1 point) Solve the Q2 using Counter from python collection module\n",
    "# You have to import Counter from collections"
   ]
  },
  {
   "cell_type": "code",
   "execution_count": null,
   "metadata": {},
   "outputs": [],
   "source": [
    "# write code here, you code should not be more than two lines"
   ]
  },
  {
   "cell_type": "code",
   "execution_count": 22,
   "metadata": {},
   "outputs": [
    {
     "data": {
      "text/plain": [
       "Counter({11: 2, 15: 3, 17: 1, 19: 1})"
      ]
     },
     "execution_count": 22,
     "metadata": {},
     "output_type": "execute_result"
    }
   ],
   "source": [
    "# answer\n",
    "from collections import Counter\n",
    "Counter(my_list)"
   ]
  },
  {
   "cell_type": "markdown",
   "metadata": {},
   "source": [
    "# Q5 (1 point) Print all possible combinations of 2 letters from my_list\n",
    "# using combinations from itertools library\n",
    "hint: your answer should be (2, 5)\n",
    "(2, 7)\n",
    "(5, 7)\n",
    "ignoring the order or element in each tuple"
   ]
  },
  {
   "cell_type": "code",
   "execution_count": 24,
   "metadata": {},
   "outputs": [],
   "source": [
    "my_list= [2, 5,7]\n",
    "#write code here"
   ]
  },
  {
   "cell_type": "code",
   "execution_count": 26,
   "metadata": {},
   "outputs": [
    {
     "name": "stdout",
     "output_type": "stream",
     "text": [
      "(2, 5)\n",
      "(2, 7)\n",
      "(5, 7)\n"
     ]
    }
   ],
   "source": [
    "#answer\n",
    "import itertools as itt\n",
    "for comb in itt.combinations(my_list, 2):\n",
    "    print(comb)"
   ]
  },
  {
   "cell_type": "markdown",
   "metadata": {},
   "source": [
    "# Q6(1 point) Using slicing, print all the element from  2 to 3 rd row and 1 to 3 column in following 2d numpy array\n",
    "hint. Be careful about zero based indexing and you answer should be \n",
    "array([[ 6,  7,  8],\n",
    "\n",
    "      [12, 13, 14]])"
   ]
  },
  {
   "cell_type": "code",
   "execution_count": 30,
   "metadata": {},
   "outputs": [
    {
     "data": {
      "text/plain": [
       "array([[ 0,  1,  2,  3,  4,  5],\n",
       "       [ 6,  7,  8,  9, 10, 11],\n",
       "       [12, 13, 14, 15, 16, 17],\n",
       "       [18, 19, 20, 21, 22, 23],\n",
       "       [24, 25, 26, 27, 28, 29]])"
      ]
     },
     "execution_count": 30,
     "metadata": {},
     "output_type": "execute_result"
    }
   ],
   "source": [
    "import numpy as np\n",
    "my_arr = np.arange(30).reshape((5, 6))\n",
    "my_arr"
   ]
  },
  {
   "cell_type": "code",
   "execution_count": null,
   "metadata": {},
   "outputs": [],
   "source": [
    "# write code here"
   ]
  },
  {
   "cell_type": "code",
   "execution_count": 33,
   "metadata": {},
   "outputs": [
    {
     "data": {
      "text/plain": [
       "array([[ 6,  7,  8],\n",
       "       [12, 13, 14]])"
      ]
     },
     "execution_count": 33,
     "metadata": {},
     "output_type": "execute_result"
    }
   ],
   "source": [
    "#answer\n",
    "my_arr[1:3, 0:3]"
   ]
  },
  {
   "cell_type": "markdown",
   "metadata": {},
   "source": [
    "# Q7 (1 point) From linalg submodule of numpy use svd for matrix factorization \n",
    "# use full_matrices=True argument in svd\n"
   ]
  },
  {
   "cell_type": "code",
   "execution_count": 38,
   "metadata": {},
   "outputs": [
    {
     "name": "stdout",
     "output_type": "stream",
     "text": [
      "original matrix\n",
      "[[ 1.62434536 -0.61175641 -0.52817175]\n",
      " [-1.07296862  0.86540763 -2.3015387 ]\n",
      " [ 1.74481176 -0.7612069   0.3190391 ]\n",
      " [-0.24937038  1.46210794 -2.06014071]]\n",
      "Multiplying back\n",
      "[[ 1.62434536 -0.61175641 -0.52817175]\n",
      " [-1.07296862  0.86540763 -2.3015387 ]\n",
      " [ 1.74481176 -0.7612069   0.3190391 ]\n",
      " [-0.24937038  1.46210794 -2.06014071]]\n",
      "(4, 4) (3,) (3, 3)\n"
     ]
    }
   ],
   "source": [
    "# svd. singluar value decomposition\n",
    "np.random.seed(1)\n",
    "a = np.random.randn(4,3)\n",
    "print('original matrix')\n",
    "print(a)\n",
    "###############################\n",
    "\n",
    "u, s, vh = # write code here\n",
    "\n",
    "\n",
    "\n",
    "###############################\n",
    "\n",
    "print('Multiplying back')\n",
    "print(np.dot(u[:,:3]*s, vh))\n",
    "print(u.shape, s.shape, vh.shape)\n",
    "# let check if factorization is  true\n",
    "assert True == np.allclose(a, np.dot(u[:,:3]*s, vh)) , 'factorization is not true'"
   ]
  },
  {
   "cell_type": "code",
   "execution_count": null,
   "metadata": {},
   "outputs": [],
   "source": [
    "# svd. singluar value decomposition\n",
    "np.random.seed(1)\n",
    "a = np.random.randn(4,3)\n",
    "print('original matrix')\n",
    "print(a)\n",
    "\n",
    "u, s, vh = np.linalg.svd(a, full_matrices=True)\n",
    "\n",
    "print('Multiplying back')\n",
    "print(np.dot(u[:,:3]*s, vh))\n",
    "print(u.shape, s.shape, vh.shape)\n",
    "# let check if factorization is  true\n",
    "assert True == np.allclose(a, np.dot(u[:,:3]*s, vh)) , 'factorization is not true'"
   ]
  },
  {
   "cell_type": "markdown",
   "metadata": {},
   "source": [
    "# Some more numpy and matplotlib"
   ]
  },
  {
   "cell_type": "code",
   "execution_count": 39,
   "metadata": {},
   "outputs": [],
   "source": [
    "import matplotlib.pyplot as plt\n",
    "import numpy as np\n",
    "%matplotlib inline # we have to use this statment to make plot in line in notebook, remove this line and see what happen"
   ]
  },
  {
   "cell_type": "markdown",
   "metadata": {},
   "source": [
    "# Q 8 (1 point)Using numpy draw 1000 sample from normal distriubtion with mean 3 and standard deviation 2\n"
   ]
  },
  {
   "cell_type": "code",
   "execution_count": 41,
   "metadata": {},
   "outputs": [],
   "source": [
    "# write code here"
   ]
  },
  {
   "cell_type": "code",
   "execution_count": 45,
   "metadata": {},
   "outputs": [],
   "source": [
    "# answer\n",
    "mu, sigma = 3, 2\n",
    "sample = np.random.normal(mu, sigma, 1000)"
   ]
  },
  {
   "cell_type": "markdown",
   "metadata": {},
   "source": [
    "# Q 9 (2 point) plot normalized histogram using 30 bins"
   ]
  },
  {
   "cell_type": "code",
   "execution_count": null,
   "metadata": {},
   "outputs": [],
   "source": [
    "# write code here"
   ]
  },
  {
   "cell_type": "code",
   "execution_count": 46,
   "metadata": {},
   "outputs": [
    {
     "data": {
      "text/plain": [
       "(array([0.00632737, 0.00421825, 0.01265474, 0.01265474, 0.02109123,\n",
       "        0.02952772, 0.04007334, 0.08014668, 0.08647405, 0.1181109 ,\n",
       "        0.14131125, 0.17083898, 0.21302144, 0.20669407, 0.2003667 ,\n",
       "        0.18138459, 0.15818424, 0.13076564, 0.09912879, 0.07592843,\n",
       "        0.05061896, 0.03163685, 0.01476386, 0.01054562, 0.00421825,\n",
       "        0.00421825, 0.        , 0.00210912, 0.        , 0.00210912]),\n",
       " array([-3.3067149 , -2.83258422, -2.35845355, -1.88432287, -1.41019219,\n",
       "        -0.93606152, -0.46193084,  0.01219984,  0.48633052,  0.96046119,\n",
       "         1.43459187,  1.90872255,  2.38285322,  2.8569839 ,  3.33111458,\n",
       "         3.80524525,  4.27937593,  4.75350661,  5.22763728,  5.70176796,\n",
       "         6.17589864,  6.65002932,  7.12415999,  7.59829067,  8.07242135,\n",
       "         8.54655202,  9.0206827 ,  9.49481338,  9.96894405, 10.44307473,\n",
       "        10.91720541]),\n",
       " <a list of 30 Patch objects>)"
      ]
     },
     "execution_count": 46,
     "metadata": {},
     "output_type": "execute_result"
    },
    {
     "data": {
      "image/png": "[encoded data removed]",
      "text/plain": [
       "<matplotlib.figure.Figure at 0x7fa934263b00>"
      ]
     },
     "metadata": {},
     "output_type": "display_data"
    }
   ],
   "source": [
    "plt.hist(sample, 30, normed=True)"
   ]
  }
 ],
 "metadata": {
  "kernelspec": {
   "display_name": "Python 3",
   "language": "python",
   "name": "python3"
  },
  "language_info": {
   "codemirror_mode": {
    "name": "ipython",
    "version": 3
   },
   "file_extension": ".py",
   "mimetype": "text/x-python",
   "name": "python",
   "nbconvert_exporter": "python",
   "pygments_lexer": "ipython3",
   "version": "3.6.4"
  }
 },
 "nbformat": 4,
 "nbformat_minor": 2
}
