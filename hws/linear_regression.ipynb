{
 "cells": [
  {
   "cell_type": "markdown",
   "metadata": {},
   "source": [
    "# We'll start using tensorflow and keras(uses tensorflow, MxNet and other deep learning library as a backend).\n",
    "\n",
    "Tensorflow is a big libray. More you use it and encounder more use cases better you will learn how to translate your idea into code(computational graph)."
   ]
  },
  {
   "cell_type": "markdown",
   "metadata": {},
   "source": [
    "## Please look at the posted presentation. \n",
    "## It contains summary of google tensorflow whitepaper\n",
    "http://download.tensorflow.org/paper/whitepaper2015.pdf, I read sometime back"
   ]
  },
  {
   "cell_type": "markdown",
   "metadata": {},
   "source": [
    "In short it is a library to generate/build a computation graph.\n",
    " - One writes codes to specify abstract computation like addition and matrix multiplication\n",
    " - One can feed the actual data later to evaluate different nodes in the graph."
   ]
  },
  {
   "cell_type": "markdown",
   "metadata": {},
   "source": [
    "# But Why to build graph for doing computations?\n",
    "Building graph before doing actual computation provides lot of optimization benefits like\n",
    "- Common Subexpression Elimination. Avoids redundent computation\n",
    "- optimize operations\n",
    "\n",
    "Graph optimization is itself a big areas of research and we can benefits from this research without worrying about actual research."
   ]
  },
  {
   "cell_type": "markdown",
   "metadata": {},
   "source": [
    "# and what is a tensor and where it fits in above computation graph lingo?"
   ]
  },
  {
   "cell_type": "markdown",
   "metadata": {},
   "source": [
    "If you want\n",
    "\n",
    "  - to go deep down what a tensor is, we need to take a deeper dive.\n",
    "      + [Intoduction to Tensor](https://math.stackexchange.com/questions/10282/an%C2%ADintroduction%C2%ADto%C2%ADtensors?%20noredirect=1&lq=1)\n",
    "      + For a lighter reading just skim thought https://en.wikipedia.org/wiki/Tensor\n",
    "     \n",
    "\n",
    "They represent linear relationships between vector and other tensors.\n",
    "\n",
    "Think about how matrix(a kind of tensor) $M_{n,m}$ maps a **m-dimentional** vector $v_{m,1}$ into another\n",
    "vector **n-dimentional** $(Mv)_{n,1}$.\n",
    "\n",
    "<font color = \"red\">Note: Every multidimentional thing is not a tensor. Tensor represent function. </font>"
   ]
  },
  {
   "cell_type": "markdown",
   "metadata": {},
   "source": [
    "You may not have thought about scalar and vector and matrix in this way but\n",
    "- scalars $x \\in \\mathbb{R}$  0th-order tensor\n",
    "- Vector are 1th order tensor\n",
    "- Matrix are 2 nd order tensor"
   ]
  },
  {
   "cell_type": "markdown",
   "metadata": {},
   "source": [
    "So tensorflow builds a computation graph where **node** in the graph represent computation and **input and output** represent the flow of tensors. It is one way to think about tensorflow or **flow of tensors(scalar, vector, matrix etc.) via  computation nodes.**"
   ]
  },
  {
   "cell_type": "markdown",
   "metadata": {},
   "source": [
    "# Let's look at a simple graph from the google paper\n",
    "<img src= './computation_graph.png'>  </img>"
   ]
  },
  {
   "cell_type": "markdown",
   "metadata": {},
   "source": [
    "- In previous graph think of  weight matrix(paramters to learn) $W$, feature vector $X$, scalar $b$ as tensors.\n",
    "- Various nodes MatMul, Add etc as  computations you want to perform\n",
    "- Input and output flow along the edge of the graph"
   ]
  },
  {
   "cell_type": "markdown",
   "metadata": {},
   "source": [
    "### All the above things are great and but one of the biggest advantage of  tensorflow like graph building libraries is that they do automatic differentations too\n",
    "\n",
    " <img src=\"./gradient_computation.png\"> </img>"
   ]
  },
  {
   "cell_type": "markdown",
   "metadata": {},
   "source": [
    "One need not to worry about building gradient computation nodes. As one keep adding various part of the graph(left graph in above picture), library automatically keep building differentiation graph(right graph in the picture) too.\n",
    "\n",
    "Remember some time there is no close form solution to find parameters $W$ which maximizes likelihood or log likelihood function $C(W)$ (**MLE estimation procedure**) as in logistic regression. We showed that if function $C(W)$  is differentiable\n",
    "one can use an iterative procedure called **gradient descent** to update the parameters.\n",
    "\n",
    "$W_{k+1} = W_k + \\eta \\frac{dC(W)}{W}$\n",
    "\n",
    "If function $C(W)$ is convex, and one uses right step size $\\eta \\in \\mathbb{R}^{+}$(set of all positive numbers), one is gauranteed to find optimal value of parameter $W$. In logistic regression case $C(W)$ is cross entopy and measure how well the logistic machine is performing currently by computing the loss $C(W)$. We want to find parameter $W$ of logistic model which minimize the loss $C(W).$\n",
    "\n",
    "Note: \n",
    "- For initial step $k=0$, in general one can use any random value for parameters $W_0$. "
   ]
  },
  {
   "cell_type": "markdown",
   "metadata": {},
   "source": [
    "# I hope by now you are somewhat convinced that using computation graph building libraries are quite useful and powerful in machine learning."
   ]
  },
  {
   "cell_type": "markdown",
   "metadata": {},
   "source": [
    "# Let's get started with using tensorflow(creating various type of nodes and tensors).\n",
    "\n",
    "https://www.tensorflow.org/guide/\n",
    "\n",
    "**Please follow instruction in course webpage to install tensorflow and keras.**\n",
    "\n",
    "https://github.com/psnegi/ml_s2018#tensorflow-and-keras\n",
    "\n",
    "[Keras](https://keras.io/) is a well-thought-out  high level computational graph building library. One need not to write a lot of boiler plate code.\n",
    "\n",
    "<font color ='red'> Following code will not work if you haven't installed tensorflow </font>"
   ]
  },
  {
   "cell_type": "code",
   "execution_count": 10,
   "metadata": {},
   "outputs": [],
   "source": [
    "import tensorflow as tf # importing tensorflow\n",
    "import numpy as np"
   ]
  },
  {
   "cell_type": "markdown",
   "metadata": {},
   "source": [
    "## creating a constant of type string\n",
    "It takes no input and outputs stored tensor. Also they are immutable(can't change the value once defined)."
   ]
  },
  {
   "cell_type": "code",
   "execution_count": 11,
   "metadata": {},
   "outputs": [
    {
     "name": "stdout",
     "output_type": "stream",
     "text": [
      "Tensor(\"Const_1:0\", shape=(), dtype=string)\n"
     ]
    }
   ],
   "source": [
    "hello_ml = tf.constant('Hello machine learning, probabilistic perspective')\n",
    "print(hello_ml)"
   ]
  },
  {
   "cell_type": "markdown",
   "metadata": {},
   "source": [
    "# To get value out we need to run it using a session\n"
   ]
  },
  {
   "cell_type": "code",
   "execution_count": 12,
   "metadata": {},
   "outputs": [
    {
     "name": "stdout",
     "output_type": "stream",
     "text": [
      "b'Hello machine learning, probabilistic perspective'\n"
     ]
    }
   ],
   "source": [
    "with tf.Session() as sess:\n",
    "    value = sess.run(hello_ml)\n",
    "    print(value)"
   ]
  },
  {
   "cell_type": "markdown",
   "metadata": {},
   "source": [
    "# variable\n",
    "\n",
    "Training a machine learning model is nothing but learning the paramters of a choosen model.\n",
    "\n",
    "We need a way to define variable representing the parameters. They are mutable. When we train the model, value stored in variable changes reflecting the learned parameters."
   ]
  },
  {
   "cell_type": "markdown",
   "metadata": {},
   "source": [
    "# Let's do a simple matrix multiplication"
   ]
  },
  {
   "cell_type": "code",
   "execution_count": 13,
   "metadata": {},
   "outputs": [],
   "source": [
    "M = tf.Variable([[1, 2, 1],[2, 2, 2]])\n",
    "I = tf.Variable([[1, 0 ,0],[0, 1, 0], [0, 0, 1]])\n",
    "random_normal = tf.Variable(initial_value= tf.random_normal([10], mean = 1.0, stddev= 0.1))\n",
    "# Please keep using . tab or shit tab to find method and argument list respectively"
   ]
  },
  {
   "cell_type": "code",
   "execution_count": 14,
   "metadata": {},
   "outputs": [],
   "source": [
    "prod = tf.matmul(M, I)"
   ]
  },
  {
   "cell_type": "markdown",
   "metadata": {},
   "source": [
    "## uncomment this cell and try to run it"
   ]
  },
  {
   "cell_type": "code",
   "execution_count": 15,
   "metadata": {},
   "outputs": [],
   "source": [
    "\n",
    "#with tf.Session() as sess:\n",
    "#    prod_value, random_normal_samples = sess.run([prod, random_normal])\n",
    "#    print(prod_value)\n",
    "#    print(random_normal_samples)"
   ]
  },
  {
   "cell_type": "markdown",
   "metadata": {},
   "source": [
    "If you try to run the pervious cell you will get **FailedPreconditionError**. We always need to initilaize our variable before using them\n"
   ]
  },
  {
   "cell_type": "code",
   "execution_count": 16,
   "metadata": {},
   "outputs": [
    {
     "name": "stdout",
     "output_type": "stream",
     "text": [
      "[[1 2 1]\n",
      " [2 2 2]]\n",
      "[0.9512408  1.1031578  0.8791143  0.86756235 1.0634931  1.0912724\n",
      " 0.98861825 1.0448619  1.0315843  0.99625677]\n"
     ]
    }
   ],
   "source": [
    "with tf.Session() as sess:\n",
    "    sess.run(tf.global_variables_initializer()) # always need to initialize\n",
    "    prod_value, random_normal_value = sess.run([prod, random_normal])\n",
    "    print(prod_value)\n",
    "    print(random_normal_value)"
   ]
  },
  {
   "cell_type": "markdown",
   "metadata": {},
   "source": [
    "In the previous code section see different ways to give initial values to variables.\n",
    "Checkout various methods here\n",
    "\n",
    "https://www.tensorflow.org/api_docs/python/tf/initializers"
   ]
  },
  {
   "cell_type": "markdown",
   "metadata": {},
   "source": [
    "The best way to create a variable is to call the **tf.get_variable function.**\n",
    "\n",
    "We'll not use tf.Variable directly hence onward"
   ]
  },
  {
   "cell_type": "markdown",
   "metadata": {},
   "source": [
    "# Placeholder\n",
    "As the name specifies we can create place holder in the graph withour  creating actual tensor.\n",
    "But when you run the graph you need to feed the right shape and type of the tensor\n",
    "\n",
    "**See below how we created x as a placeholder**"
   ]
  },
  {
   "cell_type": "code",
   "execution_count": 17,
   "metadata": {
    "scrolled": true
   },
   "outputs": [],
   "source": [
    "with tf.variable_scope(\"M\", reuse=tf.AUTO_REUSE):\n",
    "    M = tf.get_variable(name = 'matrix', initializer=  tf.constant([[1.0, 2, 1],[2, 2, 2]]))\n",
    "x = tf.placeholder(tf.float32, shape=(3, 1))# just tell the type and shape\n",
    "matrix_vector_mul = tf.matmul(M,x)"
   ]
  },
  {
   "cell_type": "code",
   "execution_count": 18,
   "metadata": {},
   "outputs": [
    {
     "name": "stdout",
     "output_type": "stream",
     "text": [
      "[[1.]\n",
      " [2.]]\n"
     ]
    }
   ],
   "source": [
    "with tf.Session() as sess:\n",
    "    sess.run(tf.global_variables_initializer())\n",
    "    # feeding thave value of place holder x at run time\n",
    "    print(sess.run(matrix_vector_mul, feed_dict={x: np.array([[1],[0.0], [0.0]])}))"
   ]
  },
  {
   "cell_type": "markdown",
   "metadata": {},
   "source": [
    "# Let's do ridge linear regression(predicting continous value) using tensorflow on \n",
    "\n",
    "Boston house price dataset\n"
   ]
  },
  {
   "cell_type": "markdown",
   "metadata": {},
   "source": [
    "## Let's download dataset $\\mathcal{D} = \\{(\\mathbf{x_i}, y_i) \\}_{i=1}^{N}$ containing features $\\mathbf{x_i}$  and target value $y_i$ "
   ]
  },
  {
   "cell_type": "code",
   "execution_count": 19,
   "metadata": {},
   "outputs": [],
   "source": [
    "import pandas as pd # for doing eploratory data analysis\n",
    "import seaborn as sns # statistical visualization\n",
    "import matplotlib.pyplot as plt\n",
    "from sklearn import model_selection\n",
    "import numpy as np\n",
    "# to make graphics inline\n",
    "%matplotlib inline \n",
    "sns.set()"
   ]
  },
  {
   "cell_type": "markdown",
   "metadata": {},
   "source": [
    "# using pandas read_csv and giving name for the columns"
   ]
  },
  {
   "cell_type": "code",
   "execution_count": 20,
   "metadata": {},
   "outputs": [
    {
     "name": "stdout",
     "output_type": "stream",
     "text": [
      "dict_keys(['data', 'target', 'feature_names', 'DESCR'])\n"
     ]
    }
   ],
   "source": [
    "from sklearn.datasets import load_boston\n",
    "boston_data = load_boston()\n",
    "print(boston_data.keys())"
   ]
  },
  {
   "cell_type": "code",
   "execution_count": 21,
   "metadata": {},
   "outputs": [
    {
     "data": {
      "text/plain": [
       "array(['CRIM', 'ZN', 'INDUS', 'CHAS', 'NOX', 'RM', 'AGE', 'DIS', 'RAD',\n",
       "       'TAX', 'PTRATIO', 'B', 'LSTAT'], dtype='<U7')"
      ]
     },
     "execution_count": 21,
     "metadata": {},
     "output_type": "execute_result"
    }
   ],
   "source": [
    "boston_data.feature_names"
   ]
  },
  {
   "cell_type": "code",
   "execution_count": 22,
   "metadata": {},
   "outputs": [
    {
     "data": {
      "text/plain": [
       "\"Boston House Prices dataset\\n===========================\\n\\nNotes\\n------\\nData Set Characteristics:  \\n\\n    :Number of Instances: 506 \\n\\n    :Number of Attributes: 13 numeric/categorical predictive\\n    \\n    :Median Value (attribute 14) is usually the target\\n\\n    :Attribute Information (in order):\\n        - CRIM     per capita crime rate by town\\n        - ZN       proportion of residential land zoned for lots over 25,000 sq.ft.\\n        - INDUS    proportion of non-retail business acres per town\\n        - CHAS     Charles River dummy variable (= 1 if tract bounds river; 0 otherwise)\\n        - NOX      nitric oxides concentration (parts per 10 million)\\n        - RM       average number of rooms per dwelling\\n        - AGE      proportion of owner-occupied units built prior to 1940\\n        - DIS      weighted distances to five Boston employment centres\\n        - RAD      index of accessibility to radial highways\\n        - TAX      full-value property-tax rate per $10,000\\n        - PTRATIO  pupil-teacher ratio by town\\n        - B        1000(Bk - 0.63)^2 where Bk is the proportion of blacks by town\\n        - LSTAT    % lower status of the population\\n        - MEDV     Median value of owner-occupied homes in $1000's\\n\\n    :Missing Attribute Values: None\\n\\n    :Creator: Harrison, D. and Rubinfeld, D.L.\\n\\nThis is a copy of UCI ML housing dataset.\\nhttp://archive.ics.uci.edu/ml/datasets/Housing\\n\\n\\nThis dataset was taken from the StatLib library which is maintained at Carnegie Mellon University.\\n\\nThe Boston house-price data of Harrison, D. and Rubinfeld, D.L. 'Hedonic\\nprices and the demand for clean air', J. Environ. Economics & Management,\\nvol.5, 81-102, 1978.   Used in Belsley, Kuh & Welsch, 'Regression diagnostics\\n...', Wiley, 1980.   N.B. Various transformations are used in the table on\\npages 244-261 of the latter.\\n\\nThe Boston house-price data has been used in many machine learning papers that address regression\\nproblems.   \\n     \\n**References**\\n\\n   - Belsley, Kuh & Welsch, 'Regression diagnostics: Identifying Influential Data and Sources of Collinearity', Wiley, 1980. 244-261.\\n   - Quinlan,R. (1993). Combining Instance-Based and Model-Based Learning. In Proceedings on the Tenth International Conference of Machine Learning, 236-243, University of Massachusetts, Amherst. Morgan Kaufmann.\\n   - many more! (see http://archive.ics.uci.edu/ml/datasets/Housing)\\n\""
      ]
     },
     "execution_count": 22,
     "metadata": {},
     "output_type": "execute_result"
    }
   ],
   "source": [
    "boston_data.DESCR"
   ]
  },
  {
   "cell_type": "code",
   "execution_count": 23,
   "metadata": {},
   "outputs": [],
   "source": [
    "df = pd.DataFrame(boston_data.data, columns=boston_data.feature_names)\n",
    "df['target'] = boston_data.target"
   ]
  },
  {
   "cell_type": "code",
   "execution_count": 24,
   "metadata": {},
   "outputs": [
    {
     "data": {
      "text/plain": [
       "(506, 14)"
      ]
     },
     "execution_count": 24,
     "metadata": {},
     "output_type": "execute_result"
    }
   ],
   "source": [
    "df.shape"
   ]
  },
  {
   "cell_type": "code",
   "execution_count": 25,
   "metadata": {},
   "outputs": [],
   "source": [
    "const_df = pd.Series(np.ones((df.shape[0], )), name='CONST')"
   ]
  },
  {
   "cell_type": "code",
   "execution_count": 26,
   "metadata": {},
   "outputs": [],
   "source": [
    "df = pd.concat([const_df, df], axis=1) # adding 1 to all the observations"
   ]
  },
  {
   "cell_type": "code",
   "execution_count": 27,
   "metadata": {},
   "outputs": [
    {
     "name": "stdout",
     "output_type": "stream",
     "text": [
      "(506, 15)\n"
     ]
    },
    {
     "data": {
      "text/html": [
       "<div>\n",
       "<style scoped>\n",
       "    .dataframe tbody tr th:only-of-type {\n",
       "        vertical-align: middle;\n",
       "    }\n",
       "\n",
       "    .dataframe tbody tr th {\n",
       "        vertical-align: top;\n",
       "    }\n",
       "\n",
       "    .dataframe thead th {\n",
       "        text-align: right;\n",
       "    }\n",
       "</style>\n",
       "<table border=\"1\" class=\"dataframe\">\n",
       "  <thead>\n",
       "    <tr style=\"text-align: right;\">\n",
       "      <th></th>\n",
       "      <th>CONST</th>\n",
       "      <th>CRIM</th>\n",
       "      <th>ZN</th>\n",
       "      <th>INDUS</th>\n",
       "      <th>CHAS</th>\n",
       "      <th>NOX</th>\n",
       "      <th>RM</th>\n",
       "      <th>AGE</th>\n",
       "      <th>DIS</th>\n",
       "      <th>RAD</th>\n",
       "      <th>TAX</th>\n",
       "      <th>PTRATIO</th>\n",
       "      <th>B</th>\n",
       "      <th>LSTAT</th>\n",
       "      <th>target</th>\n",
       "    </tr>\n",
       "  </thead>\n",
       "  <tbody>\n",
       "    <tr>\n",
       "      <th>0</th>\n",
       "      <td>1.0</td>\n",
       "      <td>0.00632</td>\n",
       "      <td>18.0</td>\n",
       "      <td>2.31</td>\n",
       "      <td>0.0</td>\n",
       "      <td>0.538</td>\n",
       "      <td>6.575</td>\n",
       "      <td>65.2</td>\n",
       "      <td>4.0900</td>\n",
       "      <td>1.0</td>\n",
       "      <td>296.0</td>\n",
       "      <td>15.3</td>\n",
       "      <td>396.90</td>\n",
       "      <td>4.98</td>\n",
       "      <td>24.0</td>\n",
       "    </tr>\n",
       "    <tr>\n",
       "      <th>1</th>\n",
       "      <td>1.0</td>\n",
       "      <td>0.02731</td>\n",
       "      <td>0.0</td>\n",
       "      <td>7.07</td>\n",
       "      <td>0.0</td>\n",
       "      <td>0.469</td>\n",
       "      <td>6.421</td>\n",
       "      <td>78.9</td>\n",
       "      <td>4.9671</td>\n",
       "      <td>2.0</td>\n",
       "      <td>242.0</td>\n",
       "      <td>17.8</td>\n",
       "      <td>396.90</td>\n",
       "      <td>9.14</td>\n",
       "      <td>21.6</td>\n",
       "    </tr>\n",
       "    <tr>\n",
       "      <th>2</th>\n",
       "      <td>1.0</td>\n",
       "      <td>0.02729</td>\n",
       "      <td>0.0</td>\n",
       "      <td>7.07</td>\n",
       "      <td>0.0</td>\n",
       "      <td>0.469</td>\n",
       "      <td>7.185</td>\n",
       "      <td>61.1</td>\n",
       "      <td>4.9671</td>\n",
       "      <td>2.0</td>\n",
       "      <td>242.0</td>\n",
       "      <td>17.8</td>\n",
       "      <td>392.83</td>\n",
       "      <td>4.03</td>\n",
       "      <td>34.7</td>\n",
       "    </tr>\n",
       "    <tr>\n",
       "      <th>3</th>\n",
       "      <td>1.0</td>\n",
       "      <td>0.03237</td>\n",
       "      <td>0.0</td>\n",
       "      <td>2.18</td>\n",
       "      <td>0.0</td>\n",
       "      <td>0.458</td>\n",
       "      <td>6.998</td>\n",
       "      <td>45.8</td>\n",
       "      <td>6.0622</td>\n",
       "      <td>3.0</td>\n",
       "      <td>222.0</td>\n",
       "      <td>18.7</td>\n",
       "      <td>394.63</td>\n",
       "      <td>2.94</td>\n",
       "      <td>33.4</td>\n",
       "    </tr>\n",
       "    <tr>\n",
       "      <th>4</th>\n",
       "      <td>1.0</td>\n",
       "      <td>0.06905</td>\n",
       "      <td>0.0</td>\n",
       "      <td>2.18</td>\n",
       "      <td>0.0</td>\n",
       "      <td>0.458</td>\n",
       "      <td>7.147</td>\n",
       "      <td>54.2</td>\n",
       "      <td>6.0622</td>\n",
       "      <td>3.0</td>\n",
       "      <td>222.0</td>\n",
       "      <td>18.7</td>\n",
       "      <td>396.90</td>\n",
       "      <td>5.33</td>\n",
       "      <td>36.2</td>\n",
       "    </tr>\n",
       "  </tbody>\n",
       "</table>\n",
       "</div>"
      ],
      "text/plain": [
       "   CONST     CRIM    ZN  INDUS  CHAS    NOX     RM   AGE     DIS  RAD    TAX  \\\n",
       "0    1.0  0.00632  18.0   2.31   0.0  0.538  6.575  65.2  4.0900  1.0  296.0   \n",
       "1    1.0  0.02731   0.0   7.07   0.0  0.469  6.421  78.9  4.9671  2.0  242.0   \n",
       "2    1.0  0.02729   0.0   7.07   0.0  0.469  7.185  61.1  4.9671  2.0  242.0   \n",
       "3    1.0  0.03237   0.0   2.18   0.0  0.458  6.998  45.8  6.0622  3.0  222.0   \n",
       "4    1.0  0.06905   0.0   2.18   0.0  0.458  7.147  54.2  6.0622  3.0  222.0   \n",
       "\n",
       "   PTRATIO       B  LSTAT  target  \n",
       "0     15.3  396.90   4.98    24.0  \n",
       "1     17.8  396.90   9.14    21.6  \n",
       "2     17.8  392.83   4.03    34.7  \n",
       "3     18.7  394.63   2.94    33.4  \n",
       "4     18.7  396.90   5.33    36.2  "
      ]
     },
     "execution_count": 27,
     "metadata": {},
     "output_type": "execute_result"
    }
   ],
   "source": [
    "print(df.shape)\n",
    "df.head()"
   ]
  },
  {
   "cell_type": "code",
   "execution_count": 28,
   "metadata": {},
   "outputs": [
    {
     "data": {
      "text/html": [
       "<div>\n",
       "<style scoped>\n",
       "    .dataframe tbody tr th:only-of-type {\n",
       "        vertical-align: middle;\n",
       "    }\n",
       "\n",
       "    .dataframe tbody tr th {\n",
       "        vertical-align: top;\n",
       "    }\n",
       "\n",
       "    .dataframe thead th {\n",
       "        text-align: right;\n",
       "    }\n",
       "</style>\n",
       "<table border=\"1\" class=\"dataframe\">\n",
       "  <thead>\n",
       "    <tr style=\"text-align: right;\">\n",
       "      <th></th>\n",
       "      <th>CONST</th>\n",
       "      <th>CRIM</th>\n",
       "      <th>ZN</th>\n",
       "      <th>INDUS</th>\n",
       "      <th>CHAS</th>\n",
       "      <th>NOX</th>\n",
       "      <th>RM</th>\n",
       "      <th>AGE</th>\n",
       "      <th>DIS</th>\n",
       "      <th>RAD</th>\n",
       "      <th>TAX</th>\n",
       "      <th>PTRATIO</th>\n",
       "      <th>B</th>\n",
       "      <th>LSTAT</th>\n",
       "      <th>target</th>\n",
       "    </tr>\n",
       "  </thead>\n",
       "  <tbody>\n",
       "    <tr>\n",
       "      <th>count</th>\n",
       "      <td>506.0</td>\n",
       "      <td>506.000000</td>\n",
       "      <td>506.000000</td>\n",
       "      <td>506.000000</td>\n",
       "      <td>506.000000</td>\n",
       "      <td>506.000000</td>\n",
       "      <td>506.000000</td>\n",
       "      <td>506.000000</td>\n",
       "      <td>506.000000</td>\n",
       "      <td>506.000000</td>\n",
       "      <td>506.000000</td>\n",
       "      <td>506.000000</td>\n",
       "      <td>506.000000</td>\n",
       "      <td>506.000000</td>\n",
       "      <td>506.000000</td>\n",
       "    </tr>\n",
       "    <tr>\n",
       "      <th>mean</th>\n",
       "      <td>1.0</td>\n",
       "      <td>3.593761</td>\n",
       "      <td>11.363636</td>\n",
       "      <td>11.136779</td>\n",
       "      <td>0.069170</td>\n",
       "      <td>0.554695</td>\n",
       "      <td>6.284634</td>\n",
       "      <td>68.574901</td>\n",
       "      <td>3.795043</td>\n",
       "      <td>9.549407</td>\n",
       "      <td>408.237154</td>\n",
       "      <td>18.455534</td>\n",
       "      <td>356.674032</td>\n",
       "      <td>12.653063</td>\n",
       "      <td>22.532806</td>\n",
       "    </tr>\n",
       "    <tr>\n",
       "      <th>std</th>\n",
       "      <td>0.0</td>\n",
       "      <td>8.596783</td>\n",
       "      <td>23.322453</td>\n",
       "      <td>6.860353</td>\n",
       "      <td>0.253994</td>\n",
       "      <td>0.115878</td>\n",
       "      <td>0.702617</td>\n",
       "      <td>28.148861</td>\n",
       "      <td>2.105710</td>\n",
       "      <td>8.707259</td>\n",
       "      <td>168.537116</td>\n",
       "      <td>2.164946</td>\n",
       "      <td>91.294864</td>\n",
       "      <td>7.141062</td>\n",
       "      <td>9.197104</td>\n",
       "    </tr>\n",
       "    <tr>\n",
       "      <th>min</th>\n",
       "      <td>1.0</td>\n",
       "      <td>0.006320</td>\n",
       "      <td>0.000000</td>\n",
       "      <td>0.460000</td>\n",
       "      <td>0.000000</td>\n",
       "      <td>0.385000</td>\n",
       "      <td>3.561000</td>\n",
       "      <td>2.900000</td>\n",
       "      <td>1.129600</td>\n",
       "      <td>1.000000</td>\n",
       "      <td>187.000000</td>\n",
       "      <td>12.600000</td>\n",
       "      <td>0.320000</td>\n",
       "      <td>1.730000</td>\n",
       "      <td>5.000000</td>\n",
       "    </tr>\n",
       "    <tr>\n",
       "      <th>25%</th>\n",
       "      <td>1.0</td>\n",
       "      <td>0.082045</td>\n",
       "      <td>0.000000</td>\n",
       "      <td>5.190000</td>\n",
       "      <td>0.000000</td>\n",
       "      <td>0.449000</td>\n",
       "      <td>5.885500</td>\n",
       "      <td>45.025000</td>\n",
       "      <td>2.100175</td>\n",
       "      <td>4.000000</td>\n",
       "      <td>279.000000</td>\n",
       "      <td>17.400000</td>\n",
       "      <td>375.377500</td>\n",
       "      <td>6.950000</td>\n",
       "      <td>17.025000</td>\n",
       "    </tr>\n",
       "    <tr>\n",
       "      <th>50%</th>\n",
       "      <td>1.0</td>\n",
       "      <td>0.256510</td>\n",
       "      <td>0.000000</td>\n",
       "      <td>9.690000</td>\n",
       "      <td>0.000000</td>\n",
       "      <td>0.538000</td>\n",
       "      <td>6.208500</td>\n",
       "      <td>77.500000</td>\n",
       "      <td>3.207450</td>\n",
       "      <td>5.000000</td>\n",
       "      <td>330.000000</td>\n",
       "      <td>19.050000</td>\n",
       "      <td>391.440000</td>\n",
       "      <td>11.360000</td>\n",
       "      <td>21.200000</td>\n",
       "    </tr>\n",
       "    <tr>\n",
       "      <th>75%</th>\n",
       "      <td>1.0</td>\n",
       "      <td>3.647423</td>\n",
       "      <td>12.500000</td>\n",
       "      <td>18.100000</td>\n",
       "      <td>0.000000</td>\n",
       "      <td>0.624000</td>\n",
       "      <td>6.623500</td>\n",
       "      <td>94.075000</td>\n",
       "      <td>5.188425</td>\n",
       "      <td>24.000000</td>\n",
       "      <td>666.000000</td>\n",
       "      <td>20.200000</td>\n",
       "      <td>396.225000</td>\n",
       "      <td>16.955000</td>\n",
       "      <td>25.000000</td>\n",
       "    </tr>\n",
       "    <tr>\n",
       "      <th>max</th>\n",
       "      <td>1.0</td>\n",
       "      <td>88.976200</td>\n",
       "      <td>100.000000</td>\n",
       "      <td>27.740000</td>\n",
       "      <td>1.000000</td>\n",
       "      <td>0.871000</td>\n",
       "      <td>8.780000</td>\n",
       "      <td>100.000000</td>\n",
       "      <td>12.126500</td>\n",
       "      <td>24.000000</td>\n",
       "      <td>711.000000</td>\n",
       "      <td>22.000000</td>\n",
       "      <td>396.900000</td>\n",
       "      <td>37.970000</td>\n",
       "      <td>50.000000</td>\n",
       "    </tr>\n",
       "  </tbody>\n",
       "</table>\n",
       "</div>"
      ],
      "text/plain": [
       "       CONST        CRIM          ZN       INDUS        CHAS         NOX  \\\n",
       "count  506.0  506.000000  506.000000  506.000000  506.000000  506.000000   \n",
       "mean     1.0    3.593761   11.363636   11.136779    0.069170    0.554695   \n",
       "std      0.0    8.596783   23.322453    6.860353    0.253994    0.115878   \n",
       "min      1.0    0.006320    0.000000    0.460000    0.000000    0.385000   \n",
       "25%      1.0    0.082045    0.000000    5.190000    0.000000    0.449000   \n",
       "50%      1.0    0.256510    0.000000    9.690000    0.000000    0.538000   \n",
       "75%      1.0    3.647423   12.500000   18.100000    0.000000    0.624000   \n",
       "max      1.0   88.976200  100.000000   27.740000    1.000000    0.871000   \n",
       "\n",
       "               RM         AGE         DIS         RAD         TAX     PTRATIO  \\\n",
       "count  506.000000  506.000000  506.000000  506.000000  506.000000  506.000000   \n",
       "mean     6.284634   68.574901    3.795043    9.549407  408.237154   18.455534   \n",
       "std      0.702617   28.148861    2.105710    8.707259  168.537116    2.164946   \n",
       "min      3.561000    2.900000    1.129600    1.000000  187.000000   12.600000   \n",
       "25%      5.885500   45.025000    2.100175    4.000000  279.000000   17.400000   \n",
       "50%      6.208500   77.500000    3.207450    5.000000  330.000000   19.050000   \n",
       "75%      6.623500   94.075000    5.188425   24.000000  666.000000   20.200000   \n",
       "max      8.780000  100.000000   12.126500   24.000000  711.000000   22.000000   \n",
       "\n",
       "                B       LSTAT      target  \n",
       "count  506.000000  506.000000  506.000000  \n",
       "mean   356.674032   12.653063   22.532806  \n",
       "std     91.294864    7.141062    9.197104  \n",
       "min      0.320000    1.730000    5.000000  \n",
       "25%    375.377500    6.950000   17.025000  \n",
       "50%    391.440000   11.360000   21.200000  \n",
       "75%    396.225000   16.955000   25.000000  \n",
       "max    396.900000   37.970000   50.000000  "
      ]
     },
     "execution_count": 28,
     "metadata": {},
     "output_type": "execute_result"
    }
   ],
   "source": [
    "# summary\n",
    "df.describe()"
   ]
  },
  {
   "cell_type": "markdown",
   "metadata": {},
   "source": [
    "# Statistical Summary and data sanity check\n",
    "\n",
    "Please read pandas **isnull** and **any** functions"
   ]
  },
  {
   "cell_type": "code",
   "execution_count": 29,
   "metadata": {},
   "outputs": [
    {
     "data": {
      "text/plain": [
       "CONST      False\n",
       "CRIM       False\n",
       "ZN         False\n",
       "INDUS      False\n",
       "CHAS       False\n",
       "NOX        False\n",
       "RM         False\n",
       "AGE        False\n",
       "DIS        False\n",
       "RAD        False\n",
       "TAX        False\n",
       "PTRATIO    False\n",
       "B          False\n",
       "LSTAT      False\n",
       "target     False\n",
       "dtype: bool"
      ]
     },
     "execution_count": 29,
     "metadata": {},
     "output_type": "execute_result"
    }
   ],
   "source": [
    "# just to make sure values in different columns are not missing\n",
    "df.isnull().any()"
   ]
  },
  {
   "cell_type": "markdown",
   "metadata": {},
   "source": [
    "## As per the above output none of the columns have  any null value"
   ]
  },
  {
   "cell_type": "code",
   "execution_count": 30,
   "metadata": {
    "scrolled": true
   },
   "outputs": [
    {
     "data": {
      "text/plain": [
       "CONST      float64\n",
       "CRIM       float64\n",
       "ZN         float64\n",
       "INDUS      float64\n",
       "CHAS       float64\n",
       "NOX        float64\n",
       "RM         float64\n",
       "AGE        float64\n",
       "DIS        float64\n",
       "RAD        float64\n",
       "TAX        float64\n",
       "PTRATIO    float64\n",
       "B          float64\n",
       "LSTAT      float64\n",
       "target     float64\n",
       "dtype: object"
      ]
     },
     "execution_count": 30,
     "metadata": {},
     "output_type": "execute_result"
    }
   ],
   "source": [
    "# Making sure datatype is also good, so that relevant algebra on columns make sense\n",
    "df.dtypes"
   ]
  },
  {
   "cell_type": "code",
   "execution_count": 31,
   "metadata": {},
   "outputs": [],
   "source": [
    "from sklearn.model_selection import  train_test_split\n",
    "validation_size = 0.40\n",
    "seed = 3\n",
    "train_df, valid_test_df = train_test_split(df, test_size=validation_size, random_state=seed)\n",
    "valid_df, test_df = train_test_split(valid_test_df, test_size=.5, random_state=seed)"
   ]
  },
  {
   "cell_type": "markdown",
   "metadata": {},
   "source": [
    "<font color = '#FF5733'>Can you guess why we splitted data into train, validation and test set? </font>"
   ]
  },
  {
   "cell_type": "markdown",
   "metadata": {},
   "source": [
    "In ridge regression remember we have to tune parameter $\\lambda$. It controls strength of regularization(How small each $w_i$ should be). There is not formula for it given the data. We need to tune it.\n",
    "\n",
    "We will use validation data to search a grid of values to find optimal $\\lambda$ using validation data as we can't touch test data to evaluate performance of the linear model.\n",
    "\n",
    "<font color = '#FF5733'>Test data works as proxy for unseeen data. Only touch it when you have selected a final model. </font>"
   ]
  },
  {
   "cell_type": "code",
   "execution_count": 32,
   "metadata": {},
   "outputs": [
    {
     "data": {
      "text/plain": [
       "((303, 15), (203, 15), (101, 15), (102, 15))"
      ]
     },
     "execution_count": 32,
     "metadata": {},
     "output_type": "execute_result"
    }
   ],
   "source": [
    "train_df.shape, valid_test_df.shape, valid_df.shape, test_df.shape"
   ]
  },
  {
   "cell_type": "code",
   "execution_count": 33,
   "metadata": {},
   "outputs": [
    {
     "data": {
      "text/html": [
       "<div>\n",
       "<style scoped>\n",
       "    .dataframe tbody tr th:only-of-type {\n",
       "        vertical-align: middle;\n",
       "    }\n",
       "\n",
       "    .dataframe tbody tr th {\n",
       "        vertical-align: top;\n",
       "    }\n",
       "\n",
       "    .dataframe thead th {\n",
       "        text-align: right;\n",
       "    }\n",
       "</style>\n",
       "<table border=\"1\" class=\"dataframe\">\n",
       "  <thead>\n",
       "    <tr style=\"text-align: right;\">\n",
       "      <th></th>\n",
       "      <th>CONST</th>\n",
       "      <th>CRIM</th>\n",
       "      <th>ZN</th>\n",
       "      <th>INDUS</th>\n",
       "      <th>CHAS</th>\n",
       "      <th>NOX</th>\n",
       "      <th>RM</th>\n",
       "      <th>AGE</th>\n",
       "      <th>DIS</th>\n",
       "      <th>RAD</th>\n",
       "      <th>TAX</th>\n",
       "      <th>PTRATIO</th>\n",
       "      <th>B</th>\n",
       "      <th>LSTAT</th>\n",
       "      <th>target</th>\n",
       "    </tr>\n",
       "  </thead>\n",
       "  <tbody>\n",
       "    <tr>\n",
       "      <th>75</th>\n",
       "      <td>1.0</td>\n",
       "      <td>0.09512</td>\n",
       "      <td>0.0</td>\n",
       "      <td>12.83</td>\n",
       "      <td>0.0</td>\n",
       "      <td>0.437</td>\n",
       "      <td>6.286</td>\n",
       "      <td>45.0</td>\n",
       "      <td>4.5026</td>\n",
       "      <td>5.0</td>\n",
       "      <td>398.0</td>\n",
       "      <td>18.7</td>\n",
       "      <td>383.23</td>\n",
       "      <td>8.94</td>\n",
       "      <td>21.4</td>\n",
       "    </tr>\n",
       "    <tr>\n",
       "      <th>142</th>\n",
       "      <td>1.0</td>\n",
       "      <td>3.32105</td>\n",
       "      <td>0.0</td>\n",
       "      <td>19.58</td>\n",
       "      <td>1.0</td>\n",
       "      <td>0.871</td>\n",
       "      <td>5.403</td>\n",
       "      <td>100.0</td>\n",
       "      <td>1.3216</td>\n",
       "      <td>5.0</td>\n",
       "      <td>403.0</td>\n",
       "      <td>14.7</td>\n",
       "      <td>396.90</td>\n",
       "      <td>26.82</td>\n",
       "      <td>13.4</td>\n",
       "    </tr>\n",
       "    <tr>\n",
       "      <th>47</th>\n",
       "      <td>1.0</td>\n",
       "      <td>0.22927</td>\n",
       "      <td>0.0</td>\n",
       "      <td>6.91</td>\n",
       "      <td>0.0</td>\n",
       "      <td>0.448</td>\n",
       "      <td>6.030</td>\n",
       "      <td>85.5</td>\n",
       "      <td>5.6894</td>\n",
       "      <td>3.0</td>\n",
       "      <td>233.0</td>\n",
       "      <td>17.9</td>\n",
       "      <td>392.74</td>\n",
       "      <td>18.80</td>\n",
       "      <td>16.6</td>\n",
       "    </tr>\n",
       "    <tr>\n",
       "      <th>46</th>\n",
       "      <td>1.0</td>\n",
       "      <td>0.18836</td>\n",
       "      <td>0.0</td>\n",
       "      <td>6.91</td>\n",
       "      <td>0.0</td>\n",
       "      <td>0.448</td>\n",
       "      <td>5.786</td>\n",
       "      <td>33.3</td>\n",
       "      <td>5.1004</td>\n",
       "      <td>3.0</td>\n",
       "      <td>233.0</td>\n",
       "      <td>17.9</td>\n",
       "      <td>396.90</td>\n",
       "      <td>14.15</td>\n",
       "      <td>20.0</td>\n",
       "    </tr>\n",
       "    <tr>\n",
       "      <th>70</th>\n",
       "      <td>1.0</td>\n",
       "      <td>0.08826</td>\n",
       "      <td>0.0</td>\n",
       "      <td>10.81</td>\n",
       "      <td>0.0</td>\n",
       "      <td>0.413</td>\n",
       "      <td>6.417</td>\n",
       "      <td>6.6</td>\n",
       "      <td>5.2873</td>\n",
       "      <td>4.0</td>\n",
       "      <td>305.0</td>\n",
       "      <td>19.2</td>\n",
       "      <td>383.73</td>\n",
       "      <td>6.72</td>\n",
       "      <td>24.2</td>\n",
       "    </tr>\n",
       "  </tbody>\n",
       "</table>\n",
       "</div>"
      ],
      "text/plain": [
       "     CONST     CRIM   ZN  INDUS  CHAS    NOX     RM    AGE     DIS  RAD  \\\n",
       "75     1.0  0.09512  0.0  12.83   0.0  0.437  6.286   45.0  4.5026  5.0   \n",
       "142    1.0  3.32105  0.0  19.58   1.0  0.871  5.403  100.0  1.3216  5.0   \n",
       "47     1.0  0.22927  0.0   6.91   0.0  0.448  6.030   85.5  5.6894  3.0   \n",
       "46     1.0  0.18836  0.0   6.91   0.0  0.448  5.786   33.3  5.1004  3.0   \n",
       "70     1.0  0.08826  0.0  10.81   0.0  0.413  6.417    6.6  5.2873  4.0   \n",
       "\n",
       "       TAX  PTRATIO       B  LSTAT  target  \n",
       "75   398.0     18.7  383.23   8.94    21.4  \n",
       "142  403.0     14.7  396.90  26.82    13.4  \n",
       "47   233.0     17.9  392.74  18.80    16.6  \n",
       "46   233.0     17.9  396.90  14.15    20.0  \n",
       "70   305.0     19.2  383.73   6.72    24.2  "
      ]
     },
     "execution_count": 33,
     "metadata": {},
     "output_type": "execute_result"
    }
   ],
   "source": [
    "train_df.head()"
   ]
  },
  {
   "cell_type": "markdown",
   "metadata": {},
   "source": [
    "In machine learning we would like uncorrelated features. Let see how our attribute/features are correlated"
   ]
  },
  {
   "cell_type": "code",
   "execution_count": 34,
   "metadata": {},
   "outputs": [
    {
     "data": {
      "text/html": [
       "<div>\n",
       "<style scoped>\n",
       "    .dataframe tbody tr th:only-of-type {\n",
       "        vertical-align: middle;\n",
       "    }\n",
       "\n",
       "    .dataframe tbody tr th {\n",
       "        vertical-align: top;\n",
       "    }\n",
       "\n",
       "    .dataframe thead th {\n",
       "        text-align: right;\n",
       "    }\n",
       "</style>\n",
       "<table border=\"1\" class=\"dataframe\">\n",
       "  <thead>\n",
       "    <tr style=\"text-align: right;\">\n",
       "      <th></th>\n",
       "      <th>CONST</th>\n",
       "      <th>CRIM</th>\n",
       "      <th>ZN</th>\n",
       "      <th>INDUS</th>\n",
       "      <th>CHAS</th>\n",
       "      <th>NOX</th>\n",
       "      <th>RM</th>\n",
       "      <th>AGE</th>\n",
       "      <th>DIS</th>\n",
       "      <th>RAD</th>\n",
       "      <th>TAX</th>\n",
       "      <th>PTRATIO</th>\n",
       "      <th>B</th>\n",
       "      <th>LSTAT</th>\n",
       "      <th>target</th>\n",
       "    </tr>\n",
       "  </thead>\n",
       "  <tbody>\n",
       "    <tr>\n",
       "      <th>CONST</th>\n",
       "      <td>NaN</td>\n",
       "      <td>NaN</td>\n",
       "      <td>NaN</td>\n",
       "      <td>NaN</td>\n",
       "      <td>NaN</td>\n",
       "      <td>NaN</td>\n",
       "      <td>NaN</td>\n",
       "      <td>NaN</td>\n",
       "      <td>NaN</td>\n",
       "      <td>NaN</td>\n",
       "      <td>NaN</td>\n",
       "      <td>NaN</td>\n",
       "      <td>NaN</td>\n",
       "      <td>NaN</td>\n",
       "      <td>NaN</td>\n",
       "    </tr>\n",
       "    <tr>\n",
       "      <th>CRIM</th>\n",
       "      <td>NaN</td>\n",
       "      <td>1.000000</td>\n",
       "      <td>-0.177411</td>\n",
       "      <td>0.378089</td>\n",
       "      <td>-0.056551</td>\n",
       "      <td>0.406739</td>\n",
       "      <td>-0.167015</td>\n",
       "      <td>0.336304</td>\n",
       "      <td>-0.356541</td>\n",
       "      <td>0.589925</td>\n",
       "      <td>0.546920</td>\n",
       "      <td>0.278826</td>\n",
       "      <td>-0.336177</td>\n",
       "      <td>0.428472</td>\n",
       "      <td>-0.382504</td>\n",
       "    </tr>\n",
       "    <tr>\n",
       "      <th>ZN</th>\n",
       "      <td>NaN</td>\n",
       "      <td>-0.177411</td>\n",
       "      <td>1.000000</td>\n",
       "      <td>-0.505638</td>\n",
       "      <td>-0.008273</td>\n",
       "      <td>-0.482803</td>\n",
       "      <td>0.354644</td>\n",
       "      <td>-0.559882</td>\n",
       "      <td>0.613124</td>\n",
       "      <td>-0.291569</td>\n",
       "      <td>-0.284912</td>\n",
       "      <td>-0.386773</td>\n",
       "      <td>0.163037</td>\n",
       "      <td>-0.398951</td>\n",
       "      <td>0.375584</td>\n",
       "    </tr>\n",
       "    <tr>\n",
       "      <th>INDUS</th>\n",
       "      <td>NaN</td>\n",
       "      <td>0.378089</td>\n",
       "      <td>-0.505638</td>\n",
       "      <td>1.000000</td>\n",
       "      <td>0.048786</td>\n",
       "      <td>0.736872</td>\n",
       "      <td>-0.410187</td>\n",
       "      <td>0.601082</td>\n",
       "      <td>-0.680766</td>\n",
       "      <td>0.586480</td>\n",
       "      <td>0.723688</td>\n",
       "      <td>0.373075</td>\n",
       "      <td>-0.344971</td>\n",
       "      <td>0.567963</td>\n",
       "      <td>-0.458193</td>\n",
       "    </tr>\n",
       "    <tr>\n",
       "      <th>CHAS</th>\n",
       "      <td>NaN</td>\n",
       "      <td>-0.056551</td>\n",
       "      <td>-0.008273</td>\n",
       "      <td>0.048786</td>\n",
       "      <td>1.000000</td>\n",
       "      <td>0.059546</td>\n",
       "      <td>0.125996</td>\n",
       "      <td>0.062271</td>\n",
       "      <td>-0.106462</td>\n",
       "      <td>-0.009327</td>\n",
       "      <td>-0.037926</td>\n",
       "      <td>-0.150474</td>\n",
       "      <td>0.071961</td>\n",
       "      <td>-0.122080</td>\n",
       "      <td>0.266546</td>\n",
       "    </tr>\n",
       "    <tr>\n",
       "      <th>NOX</th>\n",
       "      <td>NaN</td>\n",
       "      <td>0.406739</td>\n",
       "      <td>-0.482803</td>\n",
       "      <td>0.736872</td>\n",
       "      <td>0.059546</td>\n",
       "      <td>1.000000</td>\n",
       "      <td>-0.335162</td>\n",
       "      <td>0.733303</td>\n",
       "      <td>-0.767274</td>\n",
       "      <td>0.595840</td>\n",
       "      <td>0.645935</td>\n",
       "      <td>0.149543</td>\n",
       "      <td>-0.371658</td>\n",
       "      <td>0.590519</td>\n",
       "      <td>-0.403536</td>\n",
       "    </tr>\n",
       "    <tr>\n",
       "      <th>RM</th>\n",
       "      <td>NaN</td>\n",
       "      <td>-0.167015</td>\n",
       "      <td>0.354644</td>\n",
       "      <td>-0.410187</td>\n",
       "      <td>0.125996</td>\n",
       "      <td>-0.335162</td>\n",
       "      <td>1.000000</td>\n",
       "      <td>-0.270895</td>\n",
       "      <td>0.230082</td>\n",
       "      <td>-0.193393</td>\n",
       "      <td>-0.289097</td>\n",
       "      <td>-0.336211</td>\n",
       "      <td>0.116318</td>\n",
       "      <td>-0.587888</td>\n",
       "      <td>0.652362</td>\n",
       "    </tr>\n",
       "    <tr>\n",
       "      <th>AGE</th>\n",
       "      <td>NaN</td>\n",
       "      <td>0.336304</td>\n",
       "      <td>-0.559882</td>\n",
       "      <td>0.601082</td>\n",
       "      <td>0.062271</td>\n",
       "      <td>0.733303</td>\n",
       "      <td>-0.270895</td>\n",
       "      <td>1.000000</td>\n",
       "      <td>-0.748500</td>\n",
       "      <td>0.441735</td>\n",
       "      <td>0.490529</td>\n",
       "      <td>0.223524</td>\n",
       "      <td>-0.252285</td>\n",
       "      <td>0.592446</td>\n",
       "      <td>-0.362589</td>\n",
       "    </tr>\n",
       "    <tr>\n",
       "      <th>DIS</th>\n",
       "      <td>NaN</td>\n",
       "      <td>-0.356541</td>\n",
       "      <td>0.613124</td>\n",
       "      <td>-0.680766</td>\n",
       "      <td>-0.106462</td>\n",
       "      <td>-0.767274</td>\n",
       "      <td>0.230082</td>\n",
       "      <td>-0.748500</td>\n",
       "      <td>1.000000</td>\n",
       "      <td>-0.485458</td>\n",
       "      <td>-0.522751</td>\n",
       "      <td>-0.205112</td>\n",
       "      <td>0.274606</td>\n",
       "      <td>-0.457276</td>\n",
       "      <td>0.241836</td>\n",
       "    </tr>\n",
       "    <tr>\n",
       "      <th>RAD</th>\n",
       "      <td>NaN</td>\n",
       "      <td>0.589925</td>\n",
       "      <td>-0.291569</td>\n",
       "      <td>0.586480</td>\n",
       "      <td>-0.009327</td>\n",
       "      <td>0.595840</td>\n",
       "      <td>-0.193393</td>\n",
       "      <td>0.441735</td>\n",
       "      <td>-0.485458</td>\n",
       "      <td>1.000000</td>\n",
       "      <td>0.905175</td>\n",
       "      <td>0.473511</td>\n",
       "      <td>-0.435382</td>\n",
       "      <td>0.449390</td>\n",
       "      <td>-0.336884</td>\n",
       "    </tr>\n",
       "    <tr>\n",
       "      <th>TAX</th>\n",
       "      <td>NaN</td>\n",
       "      <td>0.546920</td>\n",
       "      <td>-0.284912</td>\n",
       "      <td>0.723688</td>\n",
       "      <td>-0.037926</td>\n",
       "      <td>0.645935</td>\n",
       "      <td>-0.289097</td>\n",
       "      <td>0.490529</td>\n",
       "      <td>-0.522751</td>\n",
       "      <td>0.905175</td>\n",
       "      <td>1.000000</td>\n",
       "      <td>0.470132</td>\n",
       "      <td>-0.431851</td>\n",
       "      <td>0.525579</td>\n",
       "      <td>-0.424696</td>\n",
       "    </tr>\n",
       "    <tr>\n",
       "      <th>PTRATIO</th>\n",
       "      <td>NaN</td>\n",
       "      <td>0.278826</td>\n",
       "      <td>-0.386773</td>\n",
       "      <td>0.373075</td>\n",
       "      <td>-0.150474</td>\n",
       "      <td>0.149543</td>\n",
       "      <td>-0.336211</td>\n",
       "      <td>0.223524</td>\n",
       "      <td>-0.205112</td>\n",
       "      <td>0.473511</td>\n",
       "      <td>0.470132</td>\n",
       "      <td>1.000000</td>\n",
       "      <td>-0.169806</td>\n",
       "      <td>0.350976</td>\n",
       "      <td>-0.476634</td>\n",
       "    </tr>\n",
       "    <tr>\n",
       "      <th>B</th>\n",
       "      <td>NaN</td>\n",
       "      <td>-0.336177</td>\n",
       "      <td>0.163037</td>\n",
       "      <td>-0.344971</td>\n",
       "      <td>0.071961</td>\n",
       "      <td>-0.371658</td>\n",
       "      <td>0.116318</td>\n",
       "      <td>-0.252285</td>\n",
       "      <td>0.274606</td>\n",
       "      <td>-0.435382</td>\n",
       "      <td>-0.431851</td>\n",
       "      <td>-0.169806</td>\n",
       "      <td>1.000000</td>\n",
       "      <td>-0.392983</td>\n",
       "      <td>0.349354</td>\n",
       "    </tr>\n",
       "    <tr>\n",
       "      <th>LSTAT</th>\n",
       "      <td>NaN</td>\n",
       "      <td>0.428472</td>\n",
       "      <td>-0.398951</td>\n",
       "      <td>0.567963</td>\n",
       "      <td>-0.122080</td>\n",
       "      <td>0.590519</td>\n",
       "      <td>-0.587888</td>\n",
       "      <td>0.592446</td>\n",
       "      <td>-0.457276</td>\n",
       "      <td>0.449390</td>\n",
       "      <td>0.525579</td>\n",
       "      <td>0.350976</td>\n",
       "      <td>-0.392983</td>\n",
       "      <td>1.000000</td>\n",
       "      <td>-0.751211</td>\n",
       "    </tr>\n",
       "    <tr>\n",
       "      <th>target</th>\n",
       "      <td>NaN</td>\n",
       "      <td>-0.382504</td>\n",
       "      <td>0.375584</td>\n",
       "      <td>-0.458193</td>\n",
       "      <td>0.266546</td>\n",
       "      <td>-0.403536</td>\n",
       "      <td>0.652362</td>\n",
       "      <td>-0.362589</td>\n",
       "      <td>0.241836</td>\n",
       "      <td>-0.336884</td>\n",
       "      <td>-0.424696</td>\n",
       "      <td>-0.476634</td>\n",
       "      <td>0.349354</td>\n",
       "      <td>-0.751211</td>\n",
       "      <td>1.000000</td>\n",
       "    </tr>\n",
       "  </tbody>\n",
       "</table>\n",
       "</div>"
      ],
      "text/plain": [
       "         CONST      CRIM        ZN     INDUS      CHAS       NOX        RM  \\\n",
       "CONST      NaN       NaN       NaN       NaN       NaN       NaN       NaN   \n",
       "CRIM       NaN  1.000000 -0.177411  0.378089 -0.056551  0.406739 -0.167015   \n",
       "ZN         NaN -0.177411  1.000000 -0.505638 -0.008273 -0.482803  0.354644   \n",
       "INDUS      NaN  0.378089 -0.505638  1.000000  0.048786  0.736872 -0.410187   \n",
       "CHAS       NaN -0.056551 -0.008273  0.048786  1.000000  0.059546  0.125996   \n",
       "NOX        NaN  0.406739 -0.482803  0.736872  0.059546  1.000000 -0.335162   \n",
       "RM         NaN -0.167015  0.354644 -0.410187  0.125996 -0.335162  1.000000   \n",
       "AGE        NaN  0.336304 -0.559882  0.601082  0.062271  0.733303 -0.270895   \n",
       "DIS        NaN -0.356541  0.613124 -0.680766 -0.106462 -0.767274  0.230082   \n",
       "RAD        NaN  0.589925 -0.291569  0.586480 -0.009327  0.595840 -0.193393   \n",
       "TAX        NaN  0.546920 -0.284912  0.723688 -0.037926  0.645935 -0.289097   \n",
       "PTRATIO    NaN  0.278826 -0.386773  0.373075 -0.150474  0.149543 -0.336211   \n",
       "B          NaN -0.336177  0.163037 -0.344971  0.071961 -0.371658  0.116318   \n",
       "LSTAT      NaN  0.428472 -0.398951  0.567963 -0.122080  0.590519 -0.587888   \n",
       "target     NaN -0.382504  0.375584 -0.458193  0.266546 -0.403536  0.652362   \n",
       "\n",
       "              AGE       DIS       RAD       TAX   PTRATIO         B     LSTAT  \\\n",
       "CONST         NaN       NaN       NaN       NaN       NaN       NaN       NaN   \n",
       "CRIM     0.336304 -0.356541  0.589925  0.546920  0.278826 -0.336177  0.428472   \n",
       "ZN      -0.559882  0.613124 -0.291569 -0.284912 -0.386773  0.163037 -0.398951   \n",
       "INDUS    0.601082 -0.680766  0.586480  0.723688  0.373075 -0.344971  0.567963   \n",
       "CHAS     0.062271 -0.106462 -0.009327 -0.037926 -0.150474  0.071961 -0.122080   \n",
       "NOX      0.733303 -0.767274  0.595840  0.645935  0.149543 -0.371658  0.590519   \n",
       "RM      -0.270895  0.230082 -0.193393 -0.289097 -0.336211  0.116318 -0.587888   \n",
       "AGE      1.000000 -0.748500  0.441735  0.490529  0.223524 -0.252285  0.592446   \n",
       "DIS     -0.748500  1.000000 -0.485458 -0.522751 -0.205112  0.274606 -0.457276   \n",
       "RAD      0.441735 -0.485458  1.000000  0.905175  0.473511 -0.435382  0.449390   \n",
       "TAX      0.490529 -0.522751  0.905175  1.000000  0.470132 -0.431851  0.525579   \n",
       "PTRATIO  0.223524 -0.205112  0.473511  0.470132  1.000000 -0.169806  0.350976   \n",
       "B       -0.252285  0.274606 -0.435382 -0.431851 -0.169806  1.000000 -0.392983   \n",
       "LSTAT    0.592446 -0.457276  0.449390  0.525579  0.350976 -0.392983  1.000000   \n",
       "target  -0.362589  0.241836 -0.336884 -0.424696 -0.476634  0.349354 -0.751211   \n",
       "\n",
       "           target  \n",
       "CONST         NaN  \n",
       "CRIM    -0.382504  \n",
       "ZN       0.375584  \n",
       "INDUS   -0.458193  \n",
       "CHAS     0.266546  \n",
       "NOX     -0.403536  \n",
       "RM       0.652362  \n",
       "AGE     -0.362589  \n",
       "DIS      0.241836  \n",
       "RAD     -0.336884  \n",
       "TAX     -0.424696  \n",
       "PTRATIO -0.476634  \n",
       "B        0.349354  \n",
       "LSTAT   -0.751211  \n",
       "target   1.000000  "
      ]
     },
     "execution_count": 34,
     "metadata": {},
     "output_type": "execute_result"
    }
   ],
   "source": [
    "train_df.corr()"
   ]
  },
  {
   "cell_type": "markdown",
   "metadata": {},
   "source": [
    "Last column tell the predictivity of the various attribute\n",
    "\n",
    "Correlation is not the only way to measure predictivity of the features. One can use information theoretic ideas\n",
    "like mutual inofmation etc. to find more predictive(powerful) features."
   ]
  },
  {
   "cell_type": "code",
   "execution_count": 35,
   "metadata": {},
   "outputs": [
    {
     "data": {
      "text/plain": [
       "<matplotlib.axes._subplots.AxesSubplot at 0x7f00e816f0f0>"
      ]
     },
     "execution_count": 35,
     "metadata": {},
     "output_type": "execute_result"
    },
    {
     "data": {
      "image/png": "[encoded data removed]",
      "text/plain": [
       "<Figure size 1008x1008 with 2 Axes>"
      ]
     },
     "metadata": {},
     "output_type": "display_data"
    }
   ],
   "source": [
    "fig, ax = plt.subplots(figsize=(14,14)) \n",
    "sns.heatmap(train_df.corr(), annot=True, ax=ax)"
   ]
  },
  {
   "cell_type": "markdown",
   "metadata": {},
   "source": [
    "Visually we can see lot of correlation among attribute(like DIS and INDUS) and some attribute being more predictive than other(looks like LSTAT is more predictive)\n",
    "\n",
    "We can select feature based on correlation and predictivity. It is very important activity to make sure features are uncorrelated. Once can use PCA, ICA, dimentionality reduction, manifold learning to create uncorrelated features.\n",
    "\n",
    "We can go head and pick the feature based on correlation and predictivity but\n",
    "but let's go head and do learn ridge regression to take care of correlation among features."
   ]
  },
  {
   "cell_type": "markdown",
   "metadata": {},
   "source": [
    "## Let's build design matrix X containing observations along the rows"
   ]
  },
  {
   "cell_type": "code",
   "execution_count": 36,
   "metadata": {},
   "outputs": [
    {
     "data": {
      "text/plain": [
       "Index(['CONST', 'CRIM', 'ZN', 'INDUS', 'CHAS', 'NOX', 'RM', 'AGE', 'DIS',\n",
       "       'RAD', 'TAX', 'PTRATIO', 'B', 'LSTAT', 'target'],\n",
       "      dtype='object')"
      ]
     },
     "execution_count": 36,
     "metadata": {},
     "output_type": "execute_result"
    }
   ],
   "source": [
    "train_df.columns"
   ]
  },
  {
   "cell_type": "code",
   "execution_count": 37,
   "metadata": {},
   "outputs": [
    {
     "data": {
      "text/html": [
       "<div>\n",
       "<style scoped>\n",
       "    .dataframe tbody tr th:only-of-type {\n",
       "        vertical-align: middle;\n",
       "    }\n",
       "\n",
       "    .dataframe tbody tr th {\n",
       "        vertical-align: top;\n",
       "    }\n",
       "\n",
       "    .dataframe thead th {\n",
       "        text-align: right;\n",
       "    }\n",
       "</style>\n",
       "<table border=\"1\" class=\"dataframe\">\n",
       "  <thead>\n",
       "    <tr style=\"text-align: right;\">\n",
       "      <th></th>\n",
       "      <th>CONST</th>\n",
       "      <th>CRIM</th>\n",
       "      <th>ZN</th>\n",
       "      <th>INDUS</th>\n",
       "      <th>CHAS</th>\n",
       "      <th>NOX</th>\n",
       "      <th>RM</th>\n",
       "      <th>AGE</th>\n",
       "      <th>DIS</th>\n",
       "      <th>RAD</th>\n",
       "      <th>TAX</th>\n",
       "      <th>PTRATIO</th>\n",
       "      <th>B</th>\n",
       "      <th>LSTAT</th>\n",
       "      <th>target</th>\n",
       "    </tr>\n",
       "  </thead>\n",
       "  <tbody>\n",
       "    <tr>\n",
       "      <th>75</th>\n",
       "      <td>1.0</td>\n",
       "      <td>0.09512</td>\n",
       "      <td>0.0</td>\n",
       "      <td>12.83</td>\n",
       "      <td>0.0</td>\n",
       "      <td>0.437</td>\n",
       "      <td>6.286</td>\n",
       "      <td>45.0</td>\n",
       "      <td>4.5026</td>\n",
       "      <td>5.0</td>\n",
       "      <td>398.0</td>\n",
       "      <td>18.7</td>\n",
       "      <td>383.23</td>\n",
       "      <td>8.94</td>\n",
       "      <td>21.4</td>\n",
       "    </tr>\n",
       "    <tr>\n",
       "      <th>142</th>\n",
       "      <td>1.0</td>\n",
       "      <td>3.32105</td>\n",
       "      <td>0.0</td>\n",
       "      <td>19.58</td>\n",
       "      <td>1.0</td>\n",
       "      <td>0.871</td>\n",
       "      <td>5.403</td>\n",
       "      <td>100.0</td>\n",
       "      <td>1.3216</td>\n",
       "      <td>5.0</td>\n",
       "      <td>403.0</td>\n",
       "      <td>14.7</td>\n",
       "      <td>396.90</td>\n",
       "      <td>26.82</td>\n",
       "      <td>13.4</td>\n",
       "    </tr>\n",
       "    <tr>\n",
       "      <th>47</th>\n",
       "      <td>1.0</td>\n",
       "      <td>0.22927</td>\n",
       "      <td>0.0</td>\n",
       "      <td>6.91</td>\n",
       "      <td>0.0</td>\n",
       "      <td>0.448</td>\n",
       "      <td>6.030</td>\n",
       "      <td>85.5</td>\n",
       "      <td>5.6894</td>\n",
       "      <td>3.0</td>\n",
       "      <td>233.0</td>\n",
       "      <td>17.9</td>\n",
       "      <td>392.74</td>\n",
       "      <td>18.80</td>\n",
       "      <td>16.6</td>\n",
       "    </tr>\n",
       "    <tr>\n",
       "      <th>46</th>\n",
       "      <td>1.0</td>\n",
       "      <td>0.18836</td>\n",
       "      <td>0.0</td>\n",
       "      <td>6.91</td>\n",
       "      <td>0.0</td>\n",
       "      <td>0.448</td>\n",
       "      <td>5.786</td>\n",
       "      <td>33.3</td>\n",
       "      <td>5.1004</td>\n",
       "      <td>3.0</td>\n",
       "      <td>233.0</td>\n",
       "      <td>17.9</td>\n",
       "      <td>396.90</td>\n",
       "      <td>14.15</td>\n",
       "      <td>20.0</td>\n",
       "    </tr>\n",
       "    <tr>\n",
       "      <th>70</th>\n",
       "      <td>1.0</td>\n",
       "      <td>0.08826</td>\n",
       "      <td>0.0</td>\n",
       "      <td>10.81</td>\n",
       "      <td>0.0</td>\n",
       "      <td>0.413</td>\n",
       "      <td>6.417</td>\n",
       "      <td>6.6</td>\n",
       "      <td>5.2873</td>\n",
       "      <td>4.0</td>\n",
       "      <td>305.0</td>\n",
       "      <td>19.2</td>\n",
       "      <td>383.73</td>\n",
       "      <td>6.72</td>\n",
       "      <td>24.2</td>\n",
       "    </tr>\n",
       "  </tbody>\n",
       "</table>\n",
       "</div>"
      ],
      "text/plain": [
       "     CONST     CRIM   ZN  INDUS  CHAS    NOX     RM    AGE     DIS  RAD  \\\n",
       "75     1.0  0.09512  0.0  12.83   0.0  0.437  6.286   45.0  4.5026  5.0   \n",
       "142    1.0  3.32105  0.0  19.58   1.0  0.871  5.403  100.0  1.3216  5.0   \n",
       "47     1.0  0.22927  0.0   6.91   0.0  0.448  6.030   85.5  5.6894  3.0   \n",
       "46     1.0  0.18836  0.0   6.91   0.0  0.448  5.786   33.3  5.1004  3.0   \n",
       "70     1.0  0.08826  0.0  10.81   0.0  0.413  6.417    6.6  5.2873  4.0   \n",
       "\n",
       "       TAX  PTRATIO       B  LSTAT  target  \n",
       "75   398.0     18.7  383.23   8.94    21.4  \n",
       "142  403.0     14.7  396.90  26.82    13.4  \n",
       "47   233.0     17.9  392.74  18.80    16.6  \n",
       "46   233.0     17.9  396.90  14.15    20.0  \n",
       "70   305.0     19.2  383.73   6.72    24.2  "
      ]
     },
     "execution_count": 37,
     "metadata": {},
     "output_type": "execute_result"
    }
   ],
   "source": [
    "# We are doing random selection\n",
    "selected_feature =['CONST', 'CRIM', 'INDUS', 'NOX', 'DIS', 'RAD', 'TAX','PTRATIO', 'B', 'LSTAT']\n",
    "X_train = train_df[selected_feature].values\n",
    "y_train = train_df['target'].values\n",
    "X_valid = valid_df[selected_feature].values\n",
    "y_valid = valid_df['target'].values.reshape((-1,1))\n",
    "X_test =  test_df[selected_feature].values\n",
    "y_test = test_df['target'].values.reshape((-1,1))\n",
    "train_df.head()"
   ]
  },
  {
   "cell_type": "code",
   "execution_count": 38,
   "metadata": {},
   "outputs": [
    {
     "data": {
      "text/plain": [
       "(array([[1.00000e+00, 9.51200e-02, 1.28300e+01, 4.37000e-01, 4.50260e+00,\n",
       "         5.00000e+00, 3.98000e+02, 1.87000e+01, 3.83230e+02, 8.94000e+00],\n",
       "        [1.00000e+00, 3.32105e+00, 1.95800e+01, 8.71000e-01, 1.32160e+00,\n",
       "         5.00000e+00, 4.03000e+02, 1.47000e+01, 3.96900e+02, 2.68200e+01],\n",
       "        [1.00000e+00, 2.29270e-01, 6.91000e+00, 4.48000e-01, 5.68940e+00,\n",
       "         3.00000e+00, 2.33000e+02, 1.79000e+01, 3.92740e+02, 1.88000e+01]]),\n",
       " array([21.4, 13.4, 16.6]))"
      ]
     },
     "execution_count": 38,
     "metadata": {},
     "output_type": "execute_result"
    }
   ],
   "source": [
    "X_train[0:3,:], y_train[0:3] "
   ]
  },
  {
   "cell_type": "markdown",
   "metadata": {},
   "source": [
    "Solution of ridge regression is given by\n",
    "$$\\hat{w}_{ridge} = (\\lambda I_D + X^TX)^{-1}X^T y$$\n",
    "\n",
    "For us X is X_train and y is y_train"
   ]
  },
  {
   "cell_type": "markdown",
   "metadata": {},
   "source": [
    "## Let's build a computational graph to find $\\hat{w}_{ridge}$ "
   ]
  },
  {
   "cell_type": "code",
   "execution_count": 39,
   "metadata": {},
   "outputs": [],
   "source": [
    "X = tf.placeholder(tf.float32, shape= X_train.shape, name='input_training_features')\n",
    "y = tf.placeholder(tf.float32, shape= y_train.shape, name='input_training_target')\n",
    "l = tf.placeholder(tf.float32, shape= [], name='regularization_weight')"
   ]
  },
  {
   "cell_type": "code",
   "execution_count": 40,
   "metadata": {},
   "outputs": [
    {
     "data": {
      "text/plain": [
       "(TensorShape([Dimension(303), Dimension(10)]),\n",
       " TensorShape([Dimension(303)]),\n",
       " TensorShape([]))"
      ]
     },
     "execution_count": 40,
     "metadata": {},
     "output_type": "execute_result"
    }
   ],
   "source": [
    "X.shape, y.shape, l.shape"
   ]
  },
  {
   "cell_type": "code",
   "execution_count": 41,
   "metadata": {},
   "outputs": [
    {
     "data": {
      "text/plain": [
       "(303,)"
      ]
     },
     "execution_count": 41,
     "metadata": {},
     "output_type": "execute_result"
    }
   ],
   "source": [
    "y_train.shape"
   ]
  },
  {
   "cell_type": "markdown",
   "metadata": {},
   "source": [
    "## build ridge formula(computation)\n",
    "first\n",
    "\n",
    "$\\lambda I_D + X^TX$"
   ]
  },
  {
   "cell_type": "code",
   "execution_count": 42,
   "metadata": {},
   "outputs": [],
   "source": [
    "temp = tf.multiply(l, tf.eye(X_train.shape[1])) + tf.matmul(tf.transpose(X), X)"
   ]
  },
  {
   "cell_type": "code",
   "execution_count": 43,
   "metadata": {},
   "outputs": [
    {
     "data": {
      "text/plain": [
       "TensorShape([Dimension(10), Dimension(10)])"
      ]
     },
     "execution_count": 43,
     "metadata": {},
     "output_type": "execute_result"
    }
   ],
   "source": [
    "temp.shape"
   ]
  },
  {
   "cell_type": "code",
   "execution_count": 44,
   "metadata": {},
   "outputs": [
    {
     "name": "stdout",
     "output_type": "stream",
     "text": [
      "(10, 303)\n"
     ]
    }
   ],
   "source": [
    "temp_ridge = tf.matmul(tf.matrix_inverse(temp),  tf.transpose(X))\n",
    "print(temp_ridge.shape)"
   ]
  },
  {
   "cell_type": "markdown",
   "metadata": {},
   "source": [
    "matmul needs both the arguments to have 2 dimension. Hence adding second dimension. I don't why? In numpy this is not an issue. Let me know if have better solution to mulitply matrix and vector"
   ]
  },
  {
   "cell_type": "code",
   "execution_count": 45,
   "metadata": {},
   "outputs": [
    {
     "name": "stdout",
     "output_type": "stream",
     "text": [
      "(10, 1)\n"
     ]
    }
   ],
   "source": [
    "ridge_weights = tf.matmul(temp_ridge, tf.expand_dims(y,1))\n",
    "print(ridge_weights.shape)"
   ]
  },
  {
   "cell_type": "markdown",
   "metadata": {},
   "source": [
    "## Let's run our computation graph, feeding actual data\n",
    "<font color = 'green'>see the feed_dict argument. How we are providing the actual data so that required graph dependency is statisfied </font>"
   ]
  },
  {
   "cell_type": "code",
   "execution_count": 46,
   "metadata": {},
   "outputs": [
    {
     "name": "stdout",
     "output_type": "stream",
     "text": [
      "[1e-20, 1e-10, 1e-05, 0.0001, 0.001, 0.1, 1, 5.0, 10, 50, 100]\n",
      "<class 'float'>\n"
     ]
    }
   ],
   "source": [
    "lambdas = [1e-20, 1e-10, 1e-5, 1e-4, 1e-3,1e-1, 1, 5.0, 10, 50, 100]\n",
    "print(lambdas)\n",
    "print(type(lambdas[0]))"
   ]
  },
  {
   "cell_type": "markdown",
   "metadata": {},
   "source": [
    "# Building a pandas dataframe to store $\\lambda$ and learned weights"
   ]
  },
  {
   "cell_type": "code",
   "execution_count": 47,
   "metadata": {},
   "outputs": [
    {
     "name": "stdout",
     "output_type": "stream",
     "text": [
      "['lambda_1e-20', 'lambda_1e-10', 'lambda_1e-05', 'lambda_0.0001', 'lambda_0.001', 'lambda_0.1', 'lambda_1', 'lambda_5.0', 'lambda_10', 'lambda_50', 'lambda_100']\n",
      "['lambda', 'mse', 'w_0', 'w_1', 'w_2', 'w_3', 'w_4', 'w_5', 'w_6', 'w_7', 'w_8', 'w_9']\n"
     ]
    }
   ],
   "source": [
    "ind =['lambda_{}'.format(la) for la in lambdas]\n",
    "column_names = ['lambda', 'mse']+ ['w_{}'.format(i) for i in range(X_train.shape[1])]\n",
    "print(ind)\n",
    "print(column_names)\n",
    "coeff_matrix = pd.DataFrame(index=ind, columns=column_names, dtype=np.float32)"
   ]
  },
  {
   "cell_type": "code",
   "execution_count": 48,
   "metadata": {},
   "outputs": [
    {
     "data": {
      "text/plain": [
       "lambda    float32\n",
       "mse       float32\n",
       "w_0       float32\n",
       "w_1       float32\n",
       "w_2       float32\n",
       "w_3       float32\n",
       "w_4       float32\n",
       "w_5       float32\n",
       "w_6       float32\n",
       "w_7       float32\n",
       "w_8       float32\n",
       "w_9       float32\n",
       "dtype: object"
      ]
     },
     "execution_count": 48,
     "metadata": {},
     "output_type": "execute_result"
    }
   ],
   "source": [
    "coeff_matrix.dtypes"
   ]
  },
  {
   "cell_type": "code",
   "execution_count": 49,
   "metadata": {},
   "outputs": [
    {
     "data": {
      "text/html": [
       "<div>\n",
       "<style scoped>\n",
       "    .dataframe tbody tr th:only-of-type {\n",
       "        vertical-align: middle;\n",
       "    }\n",
       "\n",
       "    .dataframe tbody tr th {\n",
       "        vertical-align: top;\n",
       "    }\n",
       "\n",
       "    .dataframe thead th {\n",
       "        text-align: right;\n",
       "    }\n",
       "</style>\n",
       "<table border=\"1\" class=\"dataframe\">\n",
       "  <thead>\n",
       "    <tr style=\"text-align: right;\">\n",
       "      <th></th>\n",
       "      <th>lambda</th>\n",
       "      <th>mse</th>\n",
       "      <th>w_0</th>\n",
       "      <th>w_1</th>\n",
       "      <th>w_2</th>\n",
       "      <th>w_3</th>\n",
       "      <th>w_4</th>\n",
       "      <th>w_5</th>\n",
       "      <th>w_6</th>\n",
       "      <th>w_7</th>\n",
       "      <th>w_8</th>\n",
       "      <th>w_9</th>\n",
       "    </tr>\n",
       "  </thead>\n",
       "  <tbody>\n",
       "    <tr>\n",
       "      <th>lambda_1e-20</th>\n",
       "      <td>NaN</td>\n",
       "      <td>NaN</td>\n",
       "      <td>NaN</td>\n",
       "      <td>NaN</td>\n",
       "      <td>NaN</td>\n",
       "      <td>NaN</td>\n",
       "      <td>NaN</td>\n",
       "      <td>NaN</td>\n",
       "      <td>NaN</td>\n",
       "      <td>NaN</td>\n",
       "      <td>NaN</td>\n",
       "      <td>NaN</td>\n",
       "    </tr>\n",
       "    <tr>\n",
       "      <th>lambda_1e-10</th>\n",
       "      <td>NaN</td>\n",
       "      <td>NaN</td>\n",
       "      <td>NaN</td>\n",
       "      <td>NaN</td>\n",
       "      <td>NaN</td>\n",
       "      <td>NaN</td>\n",
       "      <td>NaN</td>\n",
       "      <td>NaN</td>\n",
       "      <td>NaN</td>\n",
       "      <td>NaN</td>\n",
       "      <td>NaN</td>\n",
       "      <td>NaN</td>\n",
       "    </tr>\n",
       "    <tr>\n",
       "      <th>lambda_1e-05</th>\n",
       "      <td>NaN</td>\n",
       "      <td>NaN</td>\n",
       "      <td>NaN</td>\n",
       "      <td>NaN</td>\n",
       "      <td>NaN</td>\n",
       "      <td>NaN</td>\n",
       "      <td>NaN</td>\n",
       "      <td>NaN</td>\n",
       "      <td>NaN</td>\n",
       "      <td>NaN</td>\n",
       "      <td>NaN</td>\n",
       "      <td>NaN</td>\n",
       "    </tr>\n",
       "    <tr>\n",
       "      <th>lambda_0.0001</th>\n",
       "      <td>NaN</td>\n",
       "      <td>NaN</td>\n",
       "      <td>NaN</td>\n",
       "      <td>NaN</td>\n",
       "      <td>NaN</td>\n",
       "      <td>NaN</td>\n",
       "      <td>NaN</td>\n",
       "      <td>NaN</td>\n",
       "      <td>NaN</td>\n",
       "      <td>NaN</td>\n",
       "      <td>NaN</td>\n",
       "      <td>NaN</td>\n",
       "    </tr>\n",
       "    <tr>\n",
       "      <th>lambda_0.001</th>\n",
       "      <td>NaN</td>\n",
       "      <td>NaN</td>\n",
       "      <td>NaN</td>\n",
       "      <td>NaN</td>\n",
       "      <td>NaN</td>\n",
       "      <td>NaN</td>\n",
       "      <td>NaN</td>\n",
       "      <td>NaN</td>\n",
       "      <td>NaN</td>\n",
       "      <td>NaN</td>\n",
       "      <td>NaN</td>\n",
       "      <td>NaN</td>\n",
       "    </tr>\n",
       "  </tbody>\n",
       "</table>\n",
       "</div>"
      ],
      "text/plain": [
       "               lambda  mse  w_0  w_1  w_2  w_3  w_4  w_5  w_6  w_7  w_8  w_9\n",
       "lambda_1e-20      NaN  NaN  NaN  NaN  NaN  NaN  NaN  NaN  NaN  NaN  NaN  NaN\n",
       "lambda_1e-10      NaN  NaN  NaN  NaN  NaN  NaN  NaN  NaN  NaN  NaN  NaN  NaN\n",
       "lambda_1e-05      NaN  NaN  NaN  NaN  NaN  NaN  NaN  NaN  NaN  NaN  NaN  NaN\n",
       "lambda_0.0001     NaN  NaN  NaN  NaN  NaN  NaN  NaN  NaN  NaN  NaN  NaN  NaN\n",
       "lambda_0.001      NaN  NaN  NaN  NaN  NaN  NaN  NaN  NaN  NaN  NaN  NaN  NaN"
      ]
     },
     "execution_count": 49,
     "metadata": {},
     "output_type": "execute_result"
    }
   ],
   "source": [
    "coeff_matrix.head()\n",
    "# we haven't filled values in different columns.  NaN is ok"
   ]
  },
  {
   "cell_type": "markdown",
   "metadata": {},
   "source": [
    "In classification we used accuracy as a measure of how well our model performed.\n",
    "\n",
    "But how to measure regression model performance for various value of $\\lambda$?\n",
    "\n",
    "For linear model we can calculate the MSE (mean square error)\n",
    "\n",
    "Look at this link to learn about various other metrics to use for model selection and evaluation\n",
    "\n",
    "http://scikit-learn.org/stable/modules/model_evaluation.html#regression-metrics"
   ]
  },
  {
   "cell_type": "code",
   "execution_count": 50,
   "metadata": {},
   "outputs": [
    {
     "name": "stdout",
     "output_type": "stream",
     "text": [
      "0.3499955493642143\n",
      "0.3499955493642143\n",
      "0.3499897353316269\n",
      "0.35001596129927287\n",
      "0.3501891130453215\n",
      "0.3683046010514557\n",
      "0.46720191880673406\n",
      "0.6005365104022893\n",
      "0.6584800782191618\n",
      "0.7427022437349449\n",
      "0.7587159696187469\n"
     ]
    }
   ],
   "source": [
    "\n",
    "with tf.Session() as sess:\n",
    "    for i, reg in enumerate(lambdas):\n",
    "        # running the graph and feeding actual data\n",
    "        ridge_weight_value = sess.run(ridge_weights, feed_dict={X:X_train, y:y_train, l: reg})\n",
    "        # Let's evaluate the performance using MSE on y_valid, y_valid_prediction data\n",
    "        #print(ridge_weight_value)\n",
    "        y_valid_pred= np.dot(X_valid, ridge_weight_value)\n",
    "        # See how we can evaluate l_2 norm in numpy\n",
    "        mse = (np.linalg.norm(y_valid - y_valid_pred ,ord=2)/(len(y_valid)))**2\n",
    "        coeff_matrix.iloc[i, 0] = reg\n",
    "        coeff_matrix.iloc[i, 1] = mse\n",
    "        print(mse)\n",
    "        coeff_matrix.iloc[i, 2:] = ridge_weight_value.T\n",
    "    \n",
    "    "
   ]
  },
  {
   "cell_type": "code",
   "execution_count": 51,
   "metadata": {},
   "outputs": [
    {
     "data": {
      "text/plain": [
       "((101, 1), (101, 1), (10, 1), (101, 10))"
      ]
     },
     "execution_count": 51,
     "metadata": {},
     "output_type": "execute_result"
    }
   ],
   "source": [
    "y_valid.shape, y_valid_pred.shape, ridge_weight_value.shape, X_valid.shape"
   ]
  },
  {
   "cell_type": "code",
   "execution_count": 52,
   "metadata": {
    "scrolled": true
   },
   "outputs": [
    {
     "data": {
      "text/html": [
       "<div>\n",
       "<style scoped>\n",
       "    .dataframe tbody tr th:only-of-type {\n",
       "        vertical-align: middle;\n",
       "    }\n",
       "\n",
       "    .dataframe tbody tr th {\n",
       "        vertical-align: top;\n",
       "    }\n",
       "\n",
       "    .dataframe thead th {\n",
       "        text-align: right;\n",
       "    }\n",
       "</style>\n",
       "<table border=\"1\" class=\"dataframe\">\n",
       "  <thead>\n",
       "    <tr style=\"text-align: right;\">\n",
       "      <th></th>\n",
       "      <th>lambda</th>\n",
       "      <th>mse</th>\n",
       "      <th>w_0</th>\n",
       "      <th>w_1</th>\n",
       "      <th>w_2</th>\n",
       "      <th>w_3</th>\n",
       "      <th>w_4</th>\n",
       "      <th>w_5</th>\n",
       "      <th>w_6</th>\n",
       "      <th>w_7</th>\n",
       "      <th>w_8</th>\n",
       "      <th>w_9</th>\n",
       "    </tr>\n",
       "  </thead>\n",
       "  <tbody>\n",
       "    <tr>\n",
       "      <th>lambda_1e-20</th>\n",
       "      <td>1.000000e-20</td>\n",
       "      <td>0.349996</td>\n",
       "      <td>66.805962</td>\n",
       "      <td>-0.119080</td>\n",
       "      <td>-0.095482</td>\n",
       "      <td>-14.265259</td>\n",
       "      <td>-1.137073</td>\n",
       "      <td>0.327383</td>\n",
       "      <td>-0.005431</td>\n",
       "      <td>-1.329536</td>\n",
       "      <td>0.008818</td>\n",
       "      <td>-0.795525</td>\n",
       "    </tr>\n",
       "    <tr>\n",
       "      <th>lambda_1e-10</th>\n",
       "      <td>1.000000e-10</td>\n",
       "      <td>0.349996</td>\n",
       "      <td>66.805962</td>\n",
       "      <td>-0.119080</td>\n",
       "      <td>-0.095482</td>\n",
       "      <td>-14.265259</td>\n",
       "      <td>-1.137073</td>\n",
       "      <td>0.327383</td>\n",
       "      <td>-0.005431</td>\n",
       "      <td>-1.329536</td>\n",
       "      <td>0.008818</td>\n",
       "      <td>-0.795525</td>\n",
       "    </tr>\n",
       "    <tr>\n",
       "      <th>lambda_1e-05</th>\n",
       "      <td>1.000000e-05</td>\n",
       "      <td>0.349990</td>\n",
       "      <td>66.806015</td>\n",
       "      <td>-0.119080</td>\n",
       "      <td>-0.095483</td>\n",
       "      <td>-14.264557</td>\n",
       "      <td>-1.137070</td>\n",
       "      <td>0.327382</td>\n",
       "      <td>-0.005431</td>\n",
       "      <td>-1.329534</td>\n",
       "      <td>0.008818</td>\n",
       "      <td>-0.795536</td>\n",
       "    </tr>\n",
       "    <tr>\n",
       "      <th>lambda_0.0001</th>\n",
       "      <td>1.000000e-04</td>\n",
       "      <td>0.350016</td>\n",
       "      <td>66.799309</td>\n",
       "      <td>-0.119076</td>\n",
       "      <td>-0.095505</td>\n",
       "      <td>-14.259141</td>\n",
       "      <td>-1.136903</td>\n",
       "      <td>0.327351</td>\n",
       "      <td>-0.005430</td>\n",
       "      <td>-1.329398</td>\n",
       "      <td>0.008820</td>\n",
       "      <td>-0.795549</td>\n",
       "    </tr>\n",
       "    <tr>\n",
       "      <th>lambda_0.001</th>\n",
       "      <td>1.000000e-03</td>\n",
       "      <td>0.350189</td>\n",
       "      <td>66.728760</td>\n",
       "      <td>-0.119050</td>\n",
       "      <td>-0.095765</td>\n",
       "      <td>-14.197886</td>\n",
       "      <td>-1.135150</td>\n",
       "      <td>0.326986</td>\n",
       "      <td>-0.005421</td>\n",
       "      <td>-1.327773</td>\n",
       "      <td>0.008834</td>\n",
       "      <td>-0.795733</td>\n",
       "    </tr>\n",
       "    <tr>\n",
       "      <th>lambda_0.1</th>\n",
       "      <td>1.000000e-01</td>\n",
       "      <td>0.368305</td>\n",
       "      <td>60.270947</td>\n",
       "      <td>-0.116647</td>\n",
       "      <td>-0.118944</td>\n",
       "      <td>-8.711586</td>\n",
       "      <td>-0.976082</td>\n",
       "      <td>0.294919</td>\n",
       "      <td>-0.004668</td>\n",
       "      <td>-1.177378</td>\n",
       "      <td>0.010154</td>\n",
       "      <td>-0.811572</td>\n",
       "    </tr>\n",
       "    <tr>\n",
       "      <th>lambda_1</th>\n",
       "      <td>1.000000e+00</td>\n",
       "      <td>0.467202</td>\n",
       "      <td>36.525642</td>\n",
       "      <td>-0.108817</td>\n",
       "      <td>-0.180755</td>\n",
       "      <td>6.805656</td>\n",
       "      <td>-0.444947</td>\n",
       "      <td>0.170520</td>\n",
       "      <td>-0.000627</td>\n",
       "      <td>-0.560656</td>\n",
       "      <td>0.016673</td>\n",
       "      <td>-0.848708</td>\n",
       "    </tr>\n",
       "    <tr>\n",
       "      <th>lambda_5.0</th>\n",
       "      <td>5.000000e+00</td>\n",
       "      <td>0.600537</td>\n",
       "      <td>16.710773</td>\n",
       "      <td>-0.104705</td>\n",
       "      <td>-0.173663</td>\n",
       "      <td>8.076331</td>\n",
       "      <td>-0.136190</td>\n",
       "      <td>0.050005</td>\n",
       "      <td>0.005964</td>\n",
       "      <td>0.113342</td>\n",
       "      <td>0.026293</td>\n",
       "      <td>-0.826698</td>\n",
       "    </tr>\n",
       "    <tr>\n",
       "      <th>lambda_10</th>\n",
       "      <td>1.000000e+01</td>\n",
       "      <td>0.658480</td>\n",
       "      <td>10.372686</td>\n",
       "      <td>-0.103989</td>\n",
       "      <td>-0.157504</td>\n",
       "      <td>5.750039</td>\n",
       "      <td>-0.067888</td>\n",
       "      <td>0.007656</td>\n",
       "      <td>0.008831</td>\n",
       "      <td>0.364933</td>\n",
       "      <td>0.030372</td>\n",
       "      <td>-0.806862</td>\n",
       "    </tr>\n",
       "    <tr>\n",
       "      <th>lambda_50</th>\n",
       "      <td>5.000000e+01</td>\n",
       "      <td>0.742702</td>\n",
       "      <td>2.632679</td>\n",
       "      <td>-0.103743</td>\n",
       "      <td>-0.129797</td>\n",
       "      <td>1.631817</td>\n",
       "      <td>0.011604</td>\n",
       "      <td>-0.044326</td>\n",
       "      <td>0.012738</td>\n",
       "      <td>0.675495</td>\n",
       "      <td>0.036101</td>\n",
       "      <td>-0.772187</td>\n",
       "    </tr>\n",
       "    <tr>\n",
       "      <th>lambda_100</th>\n",
       "      <td>1.000000e+02</td>\n",
       "      <td>0.758716</td>\n",
       "      <td>1.374968</td>\n",
       "      <td>-0.104182</td>\n",
       "      <td>-0.123234</td>\n",
       "      <td>0.859911</td>\n",
       "      <td>0.034943</td>\n",
       "      <td>-0.051271</td>\n",
       "      <td>0.013480</td>\n",
       "      <td>0.710344</td>\n",
       "      <td>0.037428</td>\n",
       "      <td>-0.760378</td>\n",
       "    </tr>\n",
       "  </tbody>\n",
       "</table>\n",
       "</div>"
      ],
      "text/plain": [
       "                     lambda       mse        w_0       w_1       w_2  \\\n",
       "lambda_1e-20   1.000000e-20  0.349996  66.805962 -0.119080 -0.095482   \n",
       "lambda_1e-10   1.000000e-10  0.349996  66.805962 -0.119080 -0.095482   \n",
       "lambda_1e-05   1.000000e-05  0.349990  66.806015 -0.119080 -0.095483   \n",
       "lambda_0.0001  1.000000e-04  0.350016  66.799309 -0.119076 -0.095505   \n",
       "lambda_0.001   1.000000e-03  0.350189  66.728760 -0.119050 -0.095765   \n",
       "lambda_0.1     1.000000e-01  0.368305  60.270947 -0.116647 -0.118944   \n",
       "lambda_1       1.000000e+00  0.467202  36.525642 -0.108817 -0.180755   \n",
       "lambda_5.0     5.000000e+00  0.600537  16.710773 -0.104705 -0.173663   \n",
       "lambda_10      1.000000e+01  0.658480  10.372686 -0.103989 -0.157504   \n",
       "lambda_50      5.000000e+01  0.742702   2.632679 -0.103743 -0.129797   \n",
       "lambda_100     1.000000e+02  0.758716   1.374968 -0.104182 -0.123234   \n",
       "\n",
       "                     w_3       w_4       w_5       w_6       w_7       w_8  \\\n",
       "lambda_1e-20  -14.265259 -1.137073  0.327383 -0.005431 -1.329536  0.008818   \n",
       "lambda_1e-10  -14.265259 -1.137073  0.327383 -0.005431 -1.329536  0.008818   \n",
       "lambda_1e-05  -14.264557 -1.137070  0.327382 -0.005431 -1.329534  0.008818   \n",
       "lambda_0.0001 -14.259141 -1.136903  0.327351 -0.005430 -1.329398  0.008820   \n",
       "lambda_0.001  -14.197886 -1.135150  0.326986 -0.005421 -1.327773  0.008834   \n",
       "lambda_0.1     -8.711586 -0.976082  0.294919 -0.004668 -1.177378  0.010154   \n",
       "lambda_1        6.805656 -0.444947  0.170520 -0.000627 -0.560656  0.016673   \n",
       "lambda_5.0      8.076331 -0.136190  0.050005  0.005964  0.113342  0.026293   \n",
       "lambda_10       5.750039 -0.067888  0.007656  0.008831  0.364933  0.030372   \n",
       "lambda_50       1.631817  0.011604 -0.044326  0.012738  0.675495  0.036101   \n",
       "lambda_100      0.859911  0.034943 -0.051271  0.013480  0.710344  0.037428   \n",
       "\n",
       "                    w_9  \n",
       "lambda_1e-20  -0.795525  \n",
       "lambda_1e-10  -0.795525  \n",
       "lambda_1e-05  -0.795536  \n",
       "lambda_0.0001 -0.795549  \n",
       "lambda_0.001  -0.795733  \n",
       "lambda_0.1    -0.811572  \n",
       "lambda_1      -0.848708  \n",
       "lambda_5.0    -0.826698  \n",
       "lambda_10     -0.806862  \n",
       "lambda_50     -0.772187  \n",
       "lambda_100    -0.760378  "
      ]
     },
     "execution_count": 52,
     "metadata": {},
     "output_type": "execute_result"
    }
   ],
   "source": [
    "coeff_matrix"
   ]
  },
  {
   "cell_type": "markdown",
   "metadata": {},
   "source": [
    "## Note how weights are decreasing as lambda increases in the bottom part for $w_i$"
   ]
  },
  {
   "cell_type": "markdown",
   "metadata": {},
   "source": [
    "based on minimum mse (0.349990) let's pick corresponding weight vector to evalue mse on test set"
   ]
  },
  {
   "cell_type": "markdown",
   "metadata": {},
   "source": [
    "## See what would have happened if you choose the average of y_valid for prediction"
   ]
  },
  {
   "cell_type": "code",
   "execution_count": 53,
   "metadata": {},
   "outputs": [
    {
     "name": "stdout",
     "output_type": "stream",
     "text": [
      "[25.33465347]\n"
     ]
    }
   ],
   "source": [
    "mean_val = np.mean(y_valid, axis=0)\n",
    "print(mean_val)"
   ]
  },
  {
   "cell_type": "markdown",
   "metadata": {},
   "source": [
    "# This would have been our MSE in this base scenario"
   ]
  },
  {
   "cell_type": "code",
   "execution_count": 54,
   "metadata": {},
   "outputs": [
    {
     "data": {
      "text/plain": [
       "0.9047101963406807"
      ]
     },
     "execution_count": 54,
     "metadata": {},
     "output_type": "execute_result"
    }
   ],
   "source": [
    "(np.linalg.norm(y_valid -mean_val, ord=2)/len(y_valid))**2"
   ]
  },
  {
   "cell_type": "markdown",
   "metadata": {},
   "source": [
    "# Let see how well we did on truly unseen data(never touched during building model)"
   ]
  },
  {
   "cell_type": "code",
   "execution_count": 64,
   "metadata": {},
   "outputs": [],
   "source": [
    "sel = 'lambda_1e-05'\n",
    "selected_weights =  coeff_matrix.loc[sel, 'w_0':].values.reshape((-1,1))"
   ]
  },
  {
   "cell_type": "code",
   "execution_count": 65,
   "metadata": {},
   "outputs": [
    {
     "name": "stdout",
     "output_type": "stream",
     "text": [
      "(102, 1) (102, 1)\n",
      "<class 'numpy.ndarray'> <class 'numpy.ndarray'>\n"
     ]
    }
   ],
   "source": [
    "y_test_pred= np.dot(X_test, selected_weights)\n",
    "print(y_test_pred.shape, y_test.shape)\n",
    "print(type(y_test_pred), type(y_test))\n",
    "test_mse = (np.linalg.norm(y_test - y_test_pred ,ord=2)/(len(y_test)))**2"
   ]
  },
  {
   "cell_type": "code",
   "execution_count": 66,
   "metadata": {},
   "outputs": [
    {
     "data": {
      "text/plain": [
       "0.17844005255178536"
      ]
     },
     "execution_count": 66,
     "metadata": {},
     "output_type": "execute_result"
    }
   ],
   "source": [
    "test_mse"
   ]
  },
  {
   "cell_type": "markdown",
   "metadata": {},
   "source": [
    "# See what we get if we used sklearn"
   ]
  },
  {
   "cell_type": "code",
   "execution_count": 58,
   "metadata": {},
   "outputs": [],
   "source": [
    "from sklearn.linear_model import Ridge\n",
    "ridgereg = Ridge(alpha=1e-05,normalize=False)\n",
    "ridgereg.fit(X_train,y_train)\n",
    "y_test_pred = ridgereg.predict(X_test)\n",
    "\n"
   ]
  },
  {
   "cell_type": "code",
   "execution_count": 59,
   "metadata": {},
   "outputs": [
    {
     "data": {
      "text/plain": [
       "0.1784462782791376"
      ]
     },
     "execution_count": 59,
     "metadata": {},
     "output_type": "execute_result"
    }
   ],
   "source": [
    "(np.linalg.norm(y_test - y_test_pred.reshape((-1,1)) ,ord=2)/(len(y_test)))**2"
   ]
  },
  {
   "cell_type": "markdown",
   "metadata": {},
   "source": [
    "# Also one can see how good is  the linear model by analysing the error on training data. Error $\\epsilon_i$ should be normally distributed"
   ]
  },
  {
   "cell_type": "code",
   "execution_count": 60,
   "metadata": {},
   "outputs": [],
   "source": [
    "from statsmodels.graphics.gofplots import qqplot"
   ]
  },
  {
   "cell_type": "code",
   "execution_count": 61,
   "metadata": {},
   "outputs": [],
   "source": [
    "y_train_pred= np.dot(X_train, coeff_matrix.loc['lambda_1e-05', 'w_0':].values.reshape((-1,1)))"
   ]
  },
  {
   "cell_type": "code",
   "execution_count": 62,
   "metadata": {},
   "outputs": [],
   "source": [
    "error = y_train_pred - y_train"
   ]
  },
  {
   "cell_type": "code",
   "execution_count": 63,
   "metadata": {},
   "outputs": [
    {
     "data": {
      "image/png": "[encoded data removed]",
      "text/plain": [
       "<Figure size 432x288 with 1 Axes>"
      ]
     },
     "execution_count": 63,
     "metadata": {},
     "output_type": "execute_result"
    },
    {
     "data": {
      "image/png": "[encoded data removed]",
      "text/plain": [
       "<Figure size 432x288 with 1 Axes>"
      ]
     },
     "metadata": {},
     "output_type": "display_data"
    }
   ],
   "source": [
    "qqplot(error, line='s')\n",
    "# looks line not a great fit"
   ]
  }
 ],
 "metadata": {
  "kernelspec": {
   "display_name": "Python 3",
   "language": "python",
   "name": "python3"
  },
  "language_info": {
   "codemirror_mode": {
    "name": "ipython",
    "version": 3
   },
   "file_extension": ".py",
   "mimetype": "text/x-python",
   "name": "python",
   "nbconvert_exporter": "python",
   "pygments_lexer": "ipython3",
   "version": "3.6.4"
  }
 },
 "nbformat": 4,
 "nbformat_minor": 2
}
